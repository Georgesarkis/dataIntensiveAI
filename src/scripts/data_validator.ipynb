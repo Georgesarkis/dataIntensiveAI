{
 "cells": [
  {
   "cell_type": "code",
   "execution_count": 87,
   "metadata": {},
   "outputs": [],
   "source": [
    "import pandas as pd\n",
    "import numpy as np\n",
    "from pandas_schema import Column, Schema\n",
    "from pandas_schema.validation import CustomElementValidation"
   ]
  },
  {
   "cell_type": "code",
   "execution_count": 30,
   "metadata": {},
   "outputs": [],
   "source": [
    "PATH = './final2z.csv'\n",
    "train_data = pd.DataFrame(pd.read_csv(PATH, index_col=False))"
   ]
  },
  {
   "cell_type": "code",
   "execution_count": 4,
   "metadata": {},
   "outputs": [],
   "source": [
    "def is_int(value):\n",
    "    return isinstance(value, int)z"
   ]
  },
  {
   "cell_type": "code",
   "execution_count": 5,
   "metadata": {},
   "outputs": [],
   "source": [
    "def is_string(value):\n",
    "    return isinstance(value, str)"
   ]
  },
  {
   "cell_type": "code",
   "execution_count": 6,
   "metadata": {},
   "outputs": [],
   "source": [
    "def is_float(value):\n",
    "    return isinstance(value, float)"
   ]
  },
  {
   "cell_type": "code",
   "execution_count": 7,
   "metadata": {},
   "outputs": [],
   "source": [
    "int_validation=[CustomElementValidation(lambda d: is_int(d), 'is not integer')]"
   ]
  },
  {
   "cell_type": "code",
   "execution_count": 8,
   "metadata": {},
   "outputs": [],
   "source": [
    "string_validation=[CustomElementValidation(lambda d: is_string(d), 'is not string')]"
   ]
  },
  {
   "cell_type": "code",
   "execution_count": 9,
   "metadata": {},
   "outputs": [],
   "source": [
    "float_validation=[CustomElementValidation(lambda d: is_float(d), 'is not float')]"
   ]
  },
  {
   "cell_type": "code",
   "execution_count": 10,
   "metadata": {},
   "outputs": [],
   "source": [
    "null_validation=[CustomElementValidation(lambda d: pd.notnull(d), 'cannot be null')]"
   ]
  },
  {
   "cell_type": "code",
   "execution_count": 11,
   "metadata": {},
   "outputs": [],
   "source": [
    "hp_min_validation=[CustomElementValidation(lambda d: d>40, 'cannot be less than 40')]"
   ]
  },
  {
   "cell_type": "code",
   "execution_count": 12,
   "metadata": {},
   "outputs": [],
   "source": [
    "hp_max_validation=[CustomElementValidation(lambda d: d<800, 'cannot be greater than 800')]"
   ]
  },
  {
   "cell_type": "code",
   "execution_count": 13,
   "metadata": {},
   "outputs": [],
   "source": [
    "mileage_max_validation=[CustomElementValidation(lambda d: d<300000, 'cannot be less than 300000')]"
   ]
  },
  {
   "cell_type": "code",
   "execution_count": 14,
   "metadata": {},
   "outputs": [],
   "source": [
    "price_max_validation=[CustomElementValidation(lambda d: d<5000000, 'cannot be greater than 5000 000')]"
   ]
  },
  {
   "cell_type": "code",
   "execution_count": 15,
   "metadata": {},
   "outputs": [],
   "source": [
    "price_min_validation=[CustomElementValidation(lambda d: d>4000, 'cannot be less than 4000')]"
   ]
  },
  {
   "cell_type": "code",
   "execution_count": 16,
   "metadata": {},
   "outputs": [],
   "source": [
    "def validate_data(df, schema):\n",
    "    errors = schema.validate(df)\n",
    "    return errors"
   ]
  },
  {
   "cell_type": "code",
   "execution_count": 17,
   "metadata": {},
   "outputs": [],
   "source": [
    "schema = Schema([\n",
    "    Column('brand', null_validation+string_validation),\n",
    "    Column('gear', null_validation+string_validation),\n",
    "    Column('model', null_validation+string_validation),\n",
    "    Column('price', null_validation+int_validation+price_max_validation, price_min_validation),\n",
    "    Column('fuel', null_validation+string_validation),\n",
    "    Column('milage', null_validation+int_validation+mileage_max_validation),\n",
    "    Column('hp', null_validation+float_validation+hp_min_validation+hp_max_validation),\n",
    "    Column('type', null_validation+string_validation),\n",
    "    Column('geo', null_validation+string_validation),\n",
    "    Column('model_year', null_validation+int_validation)\n",
    "])"
   ]
  },
  {
   "cell_type": "code",
   "execution_count": 18,
   "metadata": {},
   "outputs": [],
   "source": [
    "errors=validate_data(train_data, schema)"
   ]
  },
  {
   "cell_type": "code",
   "execution_count": 429,
   "metadata": {},
   "outputs": [],
   "source": [
    "# errors_index = [e.row for e in errors]\n",
    "# valid_data = train_data.drop(index=errors_index)\n",
    "# pd.DataFrame({'errors':errors}).to_csv('errors.csv')\n",
    "# valid_data.to_csv('valid_data.csv')"
   ]
  }
 ],
 "metadata": {
  "kernelspec": {
   "display_name": "Python 3",
   "language": "python",
   "name": "python3"
  },
  "language_info": {
   "codemirror_mode": {
    "name": "ipython",
    "version": 3
   },
   "file_extension": ".py",
   "mimetype": "text/x-python",
   "name": "python",
   "nbconvert_exporter": "python",
   "pygments_lexer": "ipython3",
   "version": "3.7.4"
  }
 },
 "nbformat": 4,
 "nbformat_minor": 2
}
