{
 "cells": [
  {
   "cell_type": "code",
   "execution_count": 15,
   "metadata": {},
   "outputs": [
    {
     "data": {
      "text/plain": [
       "_StoreAction(option_strings=['--dataset'], dest='dataset', nargs=None, const=None, default=None, type=None, choices=None, help='Pass a .csv file, preferably stored in \"datasets/\" folder.', metavar=None)"
      ]
     },
     "execution_count": 15,
     "metadata": {},
     "output_type": "execute_result"
    }
   ],
   "source": [
    "import argparse\n",
    "import os\n",
    "import scipy\n",
    "import numpy as np\n",
    "import matplotlib.pyplot as plt\n",
    "import pandas as pd\n",
    "import sklearn\n",
    "from sklearn.linear_model import LinearRegression\n",
    "from sklearn.model_selection import train_test_split\n",
    "from sklearn import metrics\n",
    "%matplotlib inline\n",
    "\n",
    "cols = {'maker', 'model', 'mileage', 'manufacture_year', 'engine_displacement', 'engine_power', 'transmission', 'door_count', 'seat_count', 'fuel_type', 'price_eur'}\n",
    "PATH = \"../../datasets/result.csv\";\n",
    "parser = argparse.ArgumentParser(description='Cleanup the dataset.')\n",
    "parser.add_argument('--dataset', help='Pass a .csv file, preferably stored in \"datasets/\" folder.')"
   ]
  },
  {
   "cell_type": "code",
   "execution_count": 16,
   "metadata": {},
   "outputs": [
    {
     "name": "stdout",
     "output_type": "stream",
     "text": [
      "Lines of the result file: 999136\n"
     ]
    }
   ],
   "source": [
    "with open(PATH) as result:\n",
    "    row_count = sum(1 for row in result)\n",
    "    print(f\"Lines of the result file: {row_count}\")"
   ]
  },
  {
   "cell_type": "code",
   "execution_count": 17,
   "metadata": {
    "scrolled": true
   },
   "outputs": [],
   "source": [
    "train_car_data = pd.read_csv(PATH)\n"
   ]
  },
  {
   "cell_type": "code",
   "execution_count": 18,
   "metadata": {
    "scrolled": false
   },
   "outputs": [
    {
     "name": "stdout",
     "output_type": "stream",
     "text": [
      "<class 'pandas.core.frame.DataFrame'>\n",
      "RangeIndex: 999135 entries, 0 to 999134\n",
      "Data columns (total 12 columns):\n",
      "Unnamed: 0             999135 non-null int64\n",
      "seat_count             920117 non-null object\n",
      "engine_power           849250 non-null float64\n",
      "engine_displacement    794350 non-null float64\n",
      "fuel_type              700823 non-null object\n",
      "maker                  999135 non-null object\n",
      "door_count             954505 non-null object\n",
      "transmission           847318 non-null object\n",
      "price_eur              999135 non-null float64\n",
      "manufacture_year       897175 non-null float64\n",
      "model                  999135 non-null object\n",
      "mileage                906569 non-null float64\n",
      "dtypes: float64(5), int64(1), object(6)\n",
      "memory usage: 91.5+ MB\n",
      "None\n"
     ]
    }
   ],
   "source": [
    "print(train_car_data.info())"
   ]
  },
  {
   "cell_type": "code",
   "execution_count": 19,
   "metadata": {},
   "outputs": [
    {
     "name": "stdout",
     "output_type": "stream",
     "text": [
      "(999135, 12)\n"
     ]
    }
   ],
   "source": [
    "print(train_car_data.shape)"
   ]
  },
  {
   "cell_type": "code",
   "execution_count": 20,
   "metadata": {},
   "outputs": [
    {
     "name": "stdout",
     "output_type": "stream",
     "text": [
      "   Unnamed: 0 seat_count  engine_power  engine_displacement fuel_type  maker  \\\n",
      "0           0          7         103.0               2000.0    diesel   ford   \n",
      "1           1          5          81.0               2000.0    diesel  skoda   \n",
      "2           3          5          47.0               1200.0  gasoline  skoda   \n",
      "3           4          5          47.0               1200.0  gasoline  skoda   \n",
      "4           5          5          40.0               1200.0  gasoline  skoda   \n",
      "\n",
      "  door_count transmission  price_eur  manufacture_year    model   mileage  \n",
      "0          5          man   10584.75            2011.0   galaxy  151000.0  \n",
      "1          5          man    8882.31            2012.0  octavia  143476.0  \n",
      "2          5          man    2960.77            2004.0    fabia  111970.0  \n",
      "3          5          man    2738.71            2004.0    fabia  128886.0  \n",
      "4          5          man    1628.42            2003.0    fabia  140932.0  \n"
     ]
    }
   ],
   "source": [
    "print(train_car_data.head())"
   ]
  },
  {
   "cell_type": "code",
   "execution_count": 21,
   "metadata": {},
   "outputs": [
    {
     "name": "stdout",
     "output_type": "stream",
     "text": [
      "         Unnamed: 0   engine_power  engine_displacement     price_eur  \\\n",
      "count  9.991350e+05  849250.000000        794350.000000  9.991350e+05   \n",
      "mean   9.618534e+05      94.937125          1953.484129  4.856376e+04   \n",
      "std    5.299003e+05      48.462640          1962.438517  2.106160e+07   \n",
      "min    0.000000e+00       3.000000             1.000000  4.000000e-02   \n",
      "25%    4.985955e+05      66.000000          1388.000000  3.801260e+03   \n",
      "50%    9.951870e+05      85.000000          1598.000000  9.500370e+03   \n",
      "75%    1.449572e+06     110.000000          1995.000000  1.698000e+04   \n",
      "max    1.776454e+06    1504.000000         32000.000000  1.492235e+10   \n",
      "\n",
      "       manufacture_year       mileage  \n",
      "count     897175.000000  9.065690e+05  \n",
      "mean        2003.890296  1.041843e+05  \n",
      "std           67.250245  3.711849e+05  \n",
      "min            0.000000  0.000000e+00  \n",
      "25%         2005.000000  1.190000e+04  \n",
      "50%         2010.000000  6.777400e+04  \n",
      "75%         2014.000000  1.378000e+05  \n",
      "max         2016.000000  9.999999e+06  \n"
     ]
    }
   ],
   "source": [
    "print(train_car_data.describe())"
   ]
  },
  {
   "cell_type": "code",
   "execution_count": 22,
   "metadata": {},
   "outputs": [
    {
     "name": "stdout",
     "output_type": "stream",
     "text": [
      "        Unnamed: 0 seat_count  engine_power  engine_displacement fuel_type  \\\n",
      "0                0          7         103.0               2000.0    diesel   \n",
      "1                1          5          81.0               2000.0    diesel   \n",
      "2                3          5          47.0               1200.0  gasoline   \n",
      "3                4          5          47.0               1200.0  gasoline   \n",
      "4                5          5          40.0               1200.0  gasoline   \n",
      "...            ...        ...           ...                  ...       ...   \n",
      "999130     1776448          5          66.0               1498.0       NaN   \n",
      "999131     1776450          5          92.0               1596.0       NaN   \n",
      "999132     1776452          5          51.0               1399.0       NaN   \n",
      "999133     1776453        NaN          44.0                999.0       NaN   \n",
      "999134     1776454          5          77.0               1896.0       NaN   \n",
      "\n",
      "             maker door_count transmission  price_eur  manufacture_year  \\\n",
      "0             ford          5          man   10584.75            2011.0   \n",
      "1            skoda          5          man    8882.31            2012.0   \n",
      "2            skoda          5          man    2960.77            2004.0   \n",
      "3            skoda          5          man    2738.71            2004.0   \n",
      "4            skoda          5          man    1628.42            2003.0   \n",
      "...            ...        ...          ...        ...               ...   \n",
      "999130      nissan          4          man    1301.15            2000.0   \n",
      "999131        ford          4          man   10999.78            2011.0   \n",
      "999132        ford          4          man    7997.11            2012.0   \n",
      "999133  volkswagen          4          man    7957.07            2013.0   \n",
      "999134  volkswagen          4          man    5955.29            2006.0   \n",
      "\n",
      "          model   mileage  \n",
      "0        galaxy  151000.0  \n",
      "1       octavia  143476.0  \n",
      "2         fabia  111970.0  \n",
      "3         fabia  128886.0  \n",
      "4         fabia  140932.0  \n",
      "...         ...       ...  \n",
      "999130   almera  200000.0  \n",
      "999131    focus   59325.0  \n",
      "999132   fiesta   63664.0  \n",
      "999133       up   17770.0  \n",
      "999134     golf  152707.0  \n",
      "\n",
      "[999135 rows x 12 columns]\n"
     ]
    }
   ],
   "source": [
    "print(train_car_data.replace('',np.nan, regex=True)) ##, inplace=True"
   ]
  },
  {
   "cell_type": "code",
   "execution_count": 23,
   "metadata": {},
   "outputs": [],
   "source": [
    "train_car_data.to_csv(path_or_buf=f\"../../datasets/result2.csv\", sep=\",\", columns=cols)"
   ]
  },
  {
   "cell_type": "code",
   "execution_count": 24,
   "metadata": {},
   "outputs": [
    {
     "name": "stdout",
     "output_type": "stream",
     "text": [
      "0         12\n",
      "1         12\n",
      "2         12\n",
      "3         12\n",
      "4         12\n",
      "          ..\n",
      "999130    11\n",
      "999131    11\n",
      "999132    11\n",
      "999133    10\n",
      "999134    11\n",
      "Length: 999135, dtype: int64\n"
     ]
    }
   ],
   "source": [
    "## count number of empty elements in every row\n",
    "##Empty_elements = train_car_data.apply(lambda x: x.count(), axis=1)\n",
    "##print(Empty_elements)"
   ]
  },
  {
   "cell_type": "code",
   "execution_count": 25,
   "metadata": {
    "scrolled": true
   },
   "outputs": [
    {
     "data": {
      "text/plain": [
       "<matplotlib.axes._subplots.AxesSubplot at 0x1ddcfb65dc8>"
      ]
     },
     "execution_count": 25,
     "metadata": {},
     "output_type": "execute_result"
    },
    {
     "data": {
      "image/png": "[encoded data removed]",
      "text/plain": [
       "<Figure size 432x288 with 1 Axes>"
      ]
     },
     "metadata": {
      "needs_background": "light"
     },
     "output_type": "display_data"
    }
   ],
   "source": [
    "##train_car_data['manufacture_year'].hist()\n",
    "##train_car_data['engine_power'].hist()\n",
    "##train_car_data['mileage'].hist()"
   ]
  },
  {
   "cell_type": "code",
   "execution_count": 26,
   "metadata": {
    "scrolled": true
   },
   "outputs": [
    {
     "data": {
      "text/html": [
       "<div>\n",
       "<style scoped>\n",
       "    .dataframe tbody tr th:only-of-type {\n",
       "        vertical-align: middle;\n",
       "    }\n",
       "\n",
       "    .dataframe tbody tr th {\n",
       "        vertical-align: top;\n",
       "    }\n",
       "\n",
       "    .dataframe thead th {\n",
       "        text-align: right;\n",
       "    }\n",
       "</style>\n",
       "<table border=\"1\" class=\"dataframe\">\n",
       "  <thead>\n",
       "    <tr style=\"text-align: right;\">\n",
       "      <th></th>\n",
       "      <th>Unnamed: 0</th>\n",
       "      <th>seat_count</th>\n",
       "      <th>engine_power</th>\n",
       "      <th>engine_displacement</th>\n",
       "      <th>fuel_type</th>\n",
       "      <th>maker</th>\n",
       "      <th>door_count</th>\n",
       "      <th>transmission</th>\n",
       "      <th>price_eur</th>\n",
       "      <th>manufacture_year</th>\n",
       "      <th>model</th>\n",
       "      <th>mileage</th>\n",
       "    </tr>\n",
       "  </thead>\n",
       "  <tbody>\n",
       "    <tr>\n",
       "      <td>0</td>\n",
       "      <td>0</td>\n",
       "      <td>7</td>\n",
       "      <td>103.0</td>\n",
       "      <td>2000.0</td>\n",
       "      <td>diesel</td>\n",
       "      <td>ford</td>\n",
       "      <td>5</td>\n",
       "      <td>man</td>\n",
       "      <td>10584.75</td>\n",
       "      <td>2011.0</td>\n",
       "      <td>galaxy</td>\n",
       "      <td>151000.0</td>\n",
       "    </tr>\n",
       "    <tr>\n",
       "      <td>1</td>\n",
       "      <td>1</td>\n",
       "      <td>5</td>\n",
       "      <td>81.0</td>\n",
       "      <td>2000.0</td>\n",
       "      <td>diesel</td>\n",
       "      <td>skoda</td>\n",
       "      <td>5</td>\n",
       "      <td>man</td>\n",
       "      <td>8882.31</td>\n",
       "      <td>2012.0</td>\n",
       "      <td>octavia</td>\n",
       "      <td>143476.0</td>\n",
       "    </tr>\n",
       "    <tr>\n",
       "      <td>2</td>\n",
       "      <td>3</td>\n",
       "      <td>5</td>\n",
       "      <td>47.0</td>\n",
       "      <td>1200.0</td>\n",
       "      <td>gasoline</td>\n",
       "      <td>skoda</td>\n",
       "      <td>5</td>\n",
       "      <td>man</td>\n",
       "      <td>2960.77</td>\n",
       "      <td>2004.0</td>\n",
       "      <td>fabia</td>\n",
       "      <td>111970.0</td>\n",
       "    </tr>\n",
       "    <tr>\n",
       "      <td>3</td>\n",
       "      <td>4</td>\n",
       "      <td>5</td>\n",
       "      <td>47.0</td>\n",
       "      <td>1200.0</td>\n",
       "      <td>gasoline</td>\n",
       "      <td>skoda</td>\n",
       "      <td>5</td>\n",
       "      <td>man</td>\n",
       "      <td>2738.71</td>\n",
       "      <td>2004.0</td>\n",
       "      <td>fabia</td>\n",
       "      <td>128886.0</td>\n",
       "    </tr>\n",
       "    <tr>\n",
       "      <td>4</td>\n",
       "      <td>5</td>\n",
       "      <td>5</td>\n",
       "      <td>40.0</td>\n",
       "      <td>1200.0</td>\n",
       "      <td>gasoline</td>\n",
       "      <td>skoda</td>\n",
       "      <td>5</td>\n",
       "      <td>man</td>\n",
       "      <td>1628.42</td>\n",
       "      <td>2003.0</td>\n",
       "      <td>fabia</td>\n",
       "      <td>140932.0</td>\n",
       "    </tr>\n",
       "    <tr>\n",
       "      <td>...</td>\n",
       "      <td>...</td>\n",
       "      <td>...</td>\n",
       "      <td>...</td>\n",
       "      <td>...</td>\n",
       "      <td>...</td>\n",
       "      <td>...</td>\n",
       "      <td>...</td>\n",
       "      <td>...</td>\n",
       "      <td>...</td>\n",
       "      <td>...</td>\n",
       "      <td>...</td>\n",
       "      <td>...</td>\n",
       "    </tr>\n",
       "    <tr>\n",
       "      <td>999130</td>\n",
       "      <td>1776448</td>\n",
       "      <td>5</td>\n",
       "      <td>66.0</td>\n",
       "      <td>1498.0</td>\n",
       "      <td>NaN</td>\n",
       "      <td>nissan</td>\n",
       "      <td>4</td>\n",
       "      <td>man</td>\n",
       "      <td>1301.15</td>\n",
       "      <td>2000.0</td>\n",
       "      <td>almera</td>\n",
       "      <td>200000.0</td>\n",
       "    </tr>\n",
       "    <tr>\n",
       "      <td>999131</td>\n",
       "      <td>1776450</td>\n",
       "      <td>5</td>\n",
       "      <td>92.0</td>\n",
       "      <td>1596.0</td>\n",
       "      <td>NaN</td>\n",
       "      <td>ford</td>\n",
       "      <td>4</td>\n",
       "      <td>man</td>\n",
       "      <td>10999.78</td>\n",
       "      <td>2011.0</td>\n",
       "      <td>focus</td>\n",
       "      <td>59325.0</td>\n",
       "    </tr>\n",
       "    <tr>\n",
       "      <td>999132</td>\n",
       "      <td>1776452</td>\n",
       "      <td>5</td>\n",
       "      <td>51.0</td>\n",
       "      <td>1399.0</td>\n",
       "      <td>NaN</td>\n",
       "      <td>ford</td>\n",
       "      <td>4</td>\n",
       "      <td>man</td>\n",
       "      <td>7997.11</td>\n",
       "      <td>2012.0</td>\n",
       "      <td>fiesta</td>\n",
       "      <td>63664.0</td>\n",
       "    </tr>\n",
       "    <tr>\n",
       "      <td>999133</td>\n",
       "      <td>1776453</td>\n",
       "      <td>NaN</td>\n",
       "      <td>44.0</td>\n",
       "      <td>999.0</td>\n",
       "      <td>NaN</td>\n",
       "      <td>volkswagen</td>\n",
       "      <td>4</td>\n",
       "      <td>man</td>\n",
       "      <td>7957.07</td>\n",
       "      <td>2013.0</td>\n",
       "      <td>up</td>\n",
       "      <td>17770.0</td>\n",
       "    </tr>\n",
       "    <tr>\n",
       "      <td>999134</td>\n",
       "      <td>1776454</td>\n",
       "      <td>5</td>\n",
       "      <td>77.0</td>\n",
       "      <td>1896.0</td>\n",
       "      <td>NaN</td>\n",
       "      <td>volkswagen</td>\n",
       "      <td>4</td>\n",
       "      <td>man</td>\n",
       "      <td>5955.29</td>\n",
       "      <td>2006.0</td>\n",
       "      <td>golf</td>\n",
       "      <td>152707.0</td>\n",
       "    </tr>\n",
       "  </tbody>\n",
       "</table>\n",
       "<p>902255 rows × 12 columns</p>\n",
       "</div>"
      ],
      "text/plain": [
       "        Unnamed: 0 seat_count  engine_power  engine_displacement fuel_type  \\\n",
       "0                0          7         103.0               2000.0    diesel   \n",
       "1                1          5          81.0               2000.0    diesel   \n",
       "2                3          5          47.0               1200.0  gasoline   \n",
       "3                4          5          47.0               1200.0  gasoline   \n",
       "4                5          5          40.0               1200.0  gasoline   \n",
       "...            ...        ...           ...                  ...       ...   \n",
       "999130     1776448          5          66.0               1498.0       NaN   \n",
       "999131     1776450          5          92.0               1596.0       NaN   \n",
       "999132     1776452          5          51.0               1399.0       NaN   \n",
       "999133     1776453        NaN          44.0                999.0       NaN   \n",
       "999134     1776454          5          77.0               1896.0       NaN   \n",
       "\n",
       "             maker door_count transmission  price_eur  manufacture_year  \\\n",
       "0             ford          5          man   10584.75            2011.0   \n",
       "1            skoda          5          man    8882.31            2012.0   \n",
       "2            skoda          5          man    2960.77            2004.0   \n",
       "3            skoda          5          man    2738.71            2004.0   \n",
       "4            skoda          5          man    1628.42            2003.0   \n",
       "...            ...        ...          ...        ...               ...   \n",
       "999130      nissan          4          man    1301.15            2000.0   \n",
       "999131        ford          4          man   10999.78            2011.0   \n",
       "999132        ford          4          man    7997.11            2012.0   \n",
       "999133  volkswagen          4          man    7957.07            2013.0   \n",
       "999134  volkswagen          4          man    5955.29            2006.0   \n",
       "\n",
       "          model   mileage  \n",
       "0        galaxy  151000.0  \n",
       "1       octavia  143476.0  \n",
       "2         fabia  111970.0  \n",
       "3         fabia  128886.0  \n",
       "4         fabia  140932.0  \n",
       "...         ...       ...  \n",
       "999130   almera  200000.0  \n",
       "999131    focus   59325.0  \n",
       "999132   fiesta   63664.0  \n",
       "999133       up   17770.0  \n",
       "999134     golf  152707.0  \n",
       "\n",
       "[902255 rows x 12 columns]"
      ]
     },
     "execution_count": 26,
     "metadata": {},
     "output_type": "execute_result"
    }
   ],
   "source": [
    "##drop all the cars that the mileage is more than 800000 NOT SURE ABOUT THIS\n",
    "\n",
    "train_car_data[train_car_data['mileage']<800000]\n"
   ]
  },
  {
   "cell_type": "code",
   "execution_count": 27,
   "metadata": {},
   "outputs": [],
   "source": [
    "##this works but it's but its not great!\n",
    "##train_car_data.hist(figsize=(30,20))\n",
    "##plt.title('Histogram of Numeric features')\n",
    "##plt.show()\n",
    "\n",
    "train_car_data = train_car_data.dropna(axis =0)\n",
    "##train_car_data = train_car_data.dropna(subset=[\"seat_count\"])\n",
    "##train_car_data = train_car_data.dropna(subset=[\"engine_power\"])\n",
    "##train_car_data = train_car_data.dropna(subset=[\"engine_displacement\"])\n",
    "##train_car_data = train_car_data.dropna(subset=[\"fuel_type\"])\n",
    "##train_car_data = train_car_data.dropna(subset=[\"maker\"])\n",
    "##train_car_data = train_car_data.dropna(subset=[\"door_count\"])\n",
    "##train_car_data = train_car_data.dropna(subset=[\"transmission\"])\n",
    "##train_car_data = train_car_data.dropna(subset=[\"price_eur\"])\n",
    "##train_car_data = train_car_data.dropna(subset=[\"manufacture_year\"])\n",
    "##train_car_data = train_car_data.dropna(subset=[\"model\"])\n",
    "##train_car_data = train_car_data.dropna(subset=[\"mileage\"])\n",
    "\n",
    "\n",
    "##train_car_data.hist(figsize=(30,20))\n",
    "##plt.title('Histogram of Numeric features')\n",
    "##plt.show()"
   ]
  },
  {
   "cell_type": "code",
   "execution_count": 28,
   "metadata": {},
   "outputs": [
    {
     "name": "stdout",
     "output_type": "stream",
     "text": [
      "(425972, 12)\n"
     ]
    }
   ],
   "source": [
    "print(train_car_data.shape)"
   ]
  },
  {
   "cell_type": "code",
   "execution_count": 33,
   "metadata": {},
   "outputs": [
    {
     "name": "stdout",
     "output_type": "stream",
     "text": [
      "    Unnamed: 0 seat_count  engine_power  engine_displacement fuel_type  \\\n",
      "0            0          7         103.0               2000.0    diesel   \n",
      "1            1          5          81.0               2000.0    diesel   \n",
      "2            3          5          47.0               1200.0  gasoline   \n",
      "3            4          5          47.0               1200.0  gasoline   \n",
      "4            5          5          40.0               1200.0  gasoline   \n",
      "5            6          5          74.0               1400.0  gasoline   \n",
      "6            8          5          81.0               1900.0    diesel   \n",
      "7           13          5          44.0               1300.0  gasoline   \n",
      "8           14          5          39.0               1000.0  gasoline   \n",
      "9           15          5         121.0               2500.0  gasoline   \n",
      "10          17          5          74.0               1700.0    diesel   \n",
      "11          18          5          96.0               1900.0    diesel   \n",
      "12          19          5          44.0               1200.0  gasoline   \n",
      "13          20          5          50.0               1400.0  gasoline   \n",
      "14          21          5          85.0               1800.0    diesel   \n",
      "15          23          5          44.0               1300.0  gasoline   \n",
      "16          24          7          92.0               1700.0  gasoline   \n",
      "17          25          5          51.0               1200.0  gasoline   \n",
      "18          27          5         132.0               2700.0    diesel   \n",
      "19          29          4         100.0               1600.0  gasoline   \n",
      "20          30          5          93.0               1600.0  gasoline   \n",
      "21          32          5          59.0               1400.0    diesel   \n",
      "22          33          5          40.0               1200.0  gasoline   \n",
      "23          36          5          85.0               1600.0    diesel   \n",
      "24          37          5          85.0               1600.0    diesel   \n",
      "25          38          5          77.0               1900.0    diesel   \n",
      "26          39          5          75.0               1600.0  gasoline   \n",
      "27          40          5          51.0               1400.0    diesel   \n",
      "28          41          5          55.0               1400.0    diesel   \n",
      "29          42          5          82.0               1600.0    diesel   \n",
      "30          44          5          74.0               1600.0  gasoline   \n",
      "31          45          4          50.0               1000.0  gasoline   \n",
      "32          46          4         317.0               4134.0    diesel   \n",
      "33          47          5          77.0               1900.0    diesel   \n",
      "34          48          5          47.0               1200.0  gasoline   \n",
      "35          49          5          77.0               1600.0    diesel   \n",
      "36          50          5         171.0               2967.0    diesel   \n",
      "37          51          4          47.0               1200.0  gasoline   \n",
      "38          52          5          51.0               1200.0  gasoline   \n",
      "39          53          5         120.0               2000.0    diesel   \n",
      "40          54          5          80.0               1600.0    diesel   \n",
      "41          55          5          80.0               1600.0    diesel   \n",
      "42          61          5          77.0               1896.0    diesel   \n",
      "43          62          5          77.0               1896.0    diesel   \n",
      "44          63          5          77.0               1896.0    diesel   \n",
      "45          64          7          85.0               1998.0  gasoline   \n",
      "46          65          5          77.0               1896.0    diesel   \n",
      "47          66          4          51.0               1422.0    diesel   \n",
      "48          67          5          97.0               1598.0  gasoline   \n",
      "49          68          4          51.0                998.0  gasoline   \n",
      "\n",
      "      maker door_count transmission  price_eur  manufacture_year       model  \\\n",
      "0      ford          5          man   10584.75            2011.0      galaxy   \n",
      "1     skoda          5          man    8882.31            2012.0     octavia   \n",
      "2     skoda          5          man    2960.77            2004.0       fabia   \n",
      "3     skoda          5          man    2738.71            2004.0       fabia   \n",
      "4     skoda          5          man    1628.42            2003.0       fabia   \n",
      "5     skoda          5          man    2072.54            2001.0       fabia   \n",
      "6     skoda          5          man    4293.12            2003.0     octavia   \n",
      "7     skoda          5          man     370.10            1990.0     favorit   \n",
      "8    suzuki          5          man     999.26            2003.0       swift   \n",
      "9    nissan          5         auto    4811.25            2005.0     x-trail   \n",
      "10     opel          5          man    2331.61            2005.0       astra   \n",
      "11    skoda          4          man    4663.21            2005.0      superb   \n",
      "12    skoda          5          man    4219.10            2008.0       fabia   \n",
      "13    skoda          5          man    2442.64            2001.0       fabia   \n",
      "14     ford          5          man    2146.56            2002.0       focus   \n",
      "15     ford          5          man     740.19            1997.0      fiesta   \n",
      "16  citroen          5          man    7105.85            2007.0  c4-picasso   \n",
      "17     seat          5          man    3700.96            2007.0       ibiza   \n",
      "18     audi          5         auto    8882.31            2007.0          a6   \n",
      "19   suzuki          3          man    7401.92            2013.0       swift   \n",
      "20      kia          5          man    6883.79            2010.0        soul   \n",
      "21    skoda          5          man    4293.12            2007.0       fabia   \n",
      "22    skoda          5          man    3182.83            2007.0       fabia   \n",
      "23     ford          5          man    8771.28            2012.0       focus   \n",
      "24     ford          5          man   11102.89            2012.0      galaxy   \n",
      "25    skoda          5          man    5218.36            2007.0    roomster   \n",
      "26    skoda          5          man    7957.07            2009.0     octavia   \n",
      "27    skoda          5          man    3256.85            2005.0       fabia   \n",
      "28    skoda          5          man    3923.02            2005.0       fabia   \n",
      "29  citroen          5          man    7512.95            2011.0          c5   \n",
      "30     ford          5          man    6476.68            2008.0       c-max   \n",
      "31  citroen          5          man    2627.68            2006.0          c1   \n",
      "32     audi          4         auto   98692.30            2014.0          a8   \n",
      "33    skoda          5          man    9363.43            2009.0     octavia   \n",
      "34    skoda          5          man    2220.58            2004.0       fabia   \n",
      "35    skoda          5          man    9548.48            2011.0     octavia   \n",
      "36     audi          5         auto   11806.07            2007.0          q7   \n",
      "37    skoda          5          man    2183.57            2005.0       fabia   \n",
      "38    skoda          5          man    4922.28            2008.0    roomster   \n",
      "39     ford          5          man   11102.89            2012.0      mondeo   \n",
      "40  citroen          5          man    3256.85            2006.0          c5   \n",
      "41     ford          5          man    5107.33            2008.0       focus   \n",
      "42    skoda          5          man    4626.17            2006.0     octavia   \n",
      "43    skoda          5          man    4252.41            2005.0     octavia   \n",
      "44    skoda          5          man    4959.25            2007.0     octavia   \n",
      "45     ford          5          man     740.19            1998.0      galaxy   \n",
      "46    skoda          5          man    7031.79            2010.0     octavia   \n",
      "47    skoda          5          man    3327.17            2007.0       fabia   \n",
      "48   toyota          5          man   14985.20            2015.0       auris   \n",
      "49   toyota          5          man    8878.57            2015.0        aygo   \n",
      "\n",
      "     mileage  \n",
      "0   151000.0  \n",
      "1   143476.0  \n",
      "2   111970.0  \n",
      "3   128886.0  \n",
      "4   140932.0  \n",
      "5   167220.0  \n",
      "6   105389.0  \n",
      "7    41250.0  \n",
      "8   122100.0  \n",
      "9   149465.0  \n",
      "10  316054.0  \n",
      "11  269398.0  \n",
      "12   87257.0  \n",
      "13  130340.0  \n",
      "14  227415.0  \n",
      "15   84476.0  \n",
      "16  112313.0  \n",
      "17   86484.0  \n",
      "18  207427.0  \n",
      "19  113175.0  \n",
      "20   40184.0  \n",
      "21  186838.0  \n",
      "22   97070.0  \n",
      "23  159427.0  \n",
      "24  160235.0  \n",
      "25  125341.0  \n",
      "26   38513.0  \n",
      "27   87777.0  \n",
      "28   98835.0  \n",
      "29  143130.0  \n",
      "30   99713.0  \n",
      "31   78010.0  \n",
      "32    4000.0  \n",
      "33  101761.0  \n",
      "34  142093.0  \n",
      "35   55569.0  \n",
      "36  283000.0  \n",
      "37  137505.0  \n",
      "38   50300.0  \n",
      "39  164867.0  \n",
      "40  126500.0  \n",
      "41  134000.0  \n",
      "42  127380.0  \n",
      "43  181450.0  \n",
      "44  151880.0  \n",
      "45  263000.0  \n",
      "46  132140.0  \n",
      "47  187669.0  \n",
      "48       5.0  \n",
      "49       5.0  \n"
     ]
    }
   ],
   "source": [
    "print(train_car_data.head(50))"
   ]
  },
  {
   "cell_type": "code",
   "execution_count": 140,
   "metadata": {
    "scrolled": true
   },
   "outputs": [
    {
     "data": {
      "text/plain": [
       "gasoline    573232\n",
       "diesel      425903\n",
       "Name: fuel_type, dtype: int64"
      ]
     },
     "execution_count": 140,
     "metadata": {},
     "output_type": "execute_result"
    }
   ],
   "source": [
    "train_car_data['fuel_type'].value_counts()"
   ]
  },
  {
   "cell_type": "code",
   "execution_count": 139,
   "metadata": {
    "scrolled": true
   },
   "outputs": [
    {
     "name": "stdout",
     "output_type": "stream",
     "text": [
      "0.0\n"
     ]
    },
    {
     "ename": "ValueError",
     "evalue": "Limit must be greater than 0",
     "output_type": "error",
     "traceback": [
      "\u001b[1;31m---------------------------------------------------------------------------\u001b[0m",
      "\u001b[1;31mValueError\u001b[0m                                Traceback (most recent call last)",
      "\u001b[1;32m<ipython-input-139-114132a846a7>\u001b[0m in \u001b[0;36m<module>\u001b[1;34m\u001b[0m\n\u001b[0;32m      1\u001b[0m \u001b[0mbanana1\u001b[0m \u001b[1;33m=\u001b[0m \u001b[0mbanana\u001b[0m\u001b[1;33m[\u001b[0m\u001b[1;36m0\u001b[0m\u001b[1;33m]\u001b[0m \u001b[1;33m/\u001b[0m \u001b[1;36m2\u001b[0m\u001b[1;33m\u001b[0m\u001b[1;33m\u001b[0m\u001b[0m\n\u001b[0;32m      2\u001b[0m \u001b[0mprint\u001b[0m\u001b[1;33m(\u001b[0m\u001b[0mbanana1\u001b[0m\u001b[1;33m)\u001b[0m\u001b[1;33m\u001b[0m\u001b[1;33m\u001b[0m\u001b[0m\n\u001b[1;32m----> 3\u001b[1;33m \u001b[0mtrain_car_data\u001b[0m\u001b[1;33m[\u001b[0m\u001b[1;34m\"fuel_type\"\u001b[0m\u001b[1;33m]\u001b[0m\u001b[1;33m.\u001b[0m\u001b[0mfillna\u001b[0m\u001b[1;33m(\u001b[0m \u001b[0mvalue\u001b[0m \u001b[1;33m=\u001b[0m\u001b[1;34m'gasoline'\u001b[0m\u001b[1;33m,\u001b[0m \u001b[0mlimit\u001b[0m \u001b[1;33m=\u001b[0m  \u001b[0mint\u001b[0m\u001b[1;33m(\u001b[0m\u001b[0mbanana1\u001b[0m\u001b[1;33m)\u001b[0m\u001b[1;33m,\u001b[0m \u001b[0minplace\u001b[0m \u001b[1;33m=\u001b[0m \u001b[1;32mTrue\u001b[0m\u001b[1;33m)\u001b[0m\u001b[1;33m\u001b[0m\u001b[1;33m\u001b[0m\u001b[0m\n\u001b[0m\u001b[0;32m      4\u001b[0m \u001b[0mtrain_car_data\u001b[0m\u001b[1;33m[\u001b[0m\u001b[1;34m\"fuel_type\"\u001b[0m\u001b[1;33m]\u001b[0m\u001b[1;33m.\u001b[0m\u001b[0mfillna\u001b[0m\u001b[1;33m(\u001b[0m \u001b[0mvalue\u001b[0m \u001b[1;33m=\u001b[0m\u001b[1;34m'diesel'\u001b[0m\u001b[1;33m,\u001b[0m \u001b[0minplace\u001b[0m \u001b[1;33m=\u001b[0m \u001b[1;32mTrue\u001b[0m\u001b[1;33m)\u001b[0m\u001b[1;33m\u001b[0m\u001b[1;33m\u001b[0m\u001b[0m\n\u001b[0;32m      5\u001b[0m \u001b[0mbanana\u001b[0m \u001b[1;33m=\u001b[0m \u001b[0mtrain_car_data\u001b[0m\u001b[1;33m[\u001b[0m\u001b[1;33m(\u001b[0m\u001b[0mtrain_car_data\u001b[0m\u001b[1;33m[\u001b[0m\u001b[1;34m'fuel_type'\u001b[0m\u001b[1;33m]\u001b[0m \u001b[1;33m!=\u001b[0m \u001b[1;34m'diesel'\u001b[0m\u001b[1;33m)\u001b[0m \u001b[1;33m&\u001b[0m \u001b[1;33m(\u001b[0m\u001b[0mtrain_car_data\u001b[0m\u001b[1;33m[\u001b[0m\u001b[1;34m'fuel_type'\u001b[0m\u001b[1;33m]\u001b[0m \u001b[1;33m!=\u001b[0m \u001b[1;34m'gasoline'\u001b[0m\u001b[1;33m)\u001b[0m\u001b[1;33m]\u001b[0m\u001b[1;33m.\u001b[0m\u001b[0mshape\u001b[0m\u001b[1;33m\u001b[0m\u001b[1;33m\u001b[0m\u001b[0m\n",
      "\u001b[1;32m~\\Anaconda3\\lib\\site-packages\\pandas\\core\\series.py\u001b[0m in \u001b[0;36mfillna\u001b[1;34m(self, value, method, axis, inplace, limit, downcast, **kwargs)\u001b[0m\n\u001b[0;32m   4343\u001b[0m             \u001b[0mlimit\u001b[0m\u001b[1;33m=\u001b[0m\u001b[0mlimit\u001b[0m\u001b[1;33m,\u001b[0m\u001b[1;33m\u001b[0m\u001b[1;33m\u001b[0m\u001b[0m\n\u001b[0;32m   4344\u001b[0m             \u001b[0mdowncast\u001b[0m\u001b[1;33m=\u001b[0m\u001b[0mdowncast\u001b[0m\u001b[1;33m,\u001b[0m\u001b[1;33m\u001b[0m\u001b[1;33m\u001b[0m\u001b[0m\n\u001b[1;32m-> 4345\u001b[1;33m             \u001b[1;33m**\u001b[0m\u001b[0mkwargs\u001b[0m\u001b[1;33m\u001b[0m\u001b[1;33m\u001b[0m\u001b[0m\n\u001b[0m\u001b[0;32m   4346\u001b[0m         )\n\u001b[0;32m   4347\u001b[0m \u001b[1;33m\u001b[0m\u001b[0m\n",
      "\u001b[1;32m~\\Anaconda3\\lib\\site-packages\\pandas\\core\\generic.py\u001b[0m in \u001b[0;36mfillna\u001b[1;34m(self, value, method, axis, inplace, limit, downcast)\u001b[0m\n\u001b[0;32m   6256\u001b[0m \u001b[1;33m\u001b[0m\u001b[0m\n\u001b[0;32m   6257\u001b[0m                 new_data = self._data.fillna(\n\u001b[1;32m-> 6258\u001b[1;33m                     \u001b[0mvalue\u001b[0m\u001b[1;33m=\u001b[0m\u001b[0mvalue\u001b[0m\u001b[1;33m,\u001b[0m \u001b[0mlimit\u001b[0m\u001b[1;33m=\u001b[0m\u001b[0mlimit\u001b[0m\u001b[1;33m,\u001b[0m \u001b[0minplace\u001b[0m\u001b[1;33m=\u001b[0m\u001b[0minplace\u001b[0m\u001b[1;33m,\u001b[0m \u001b[0mdowncast\u001b[0m\u001b[1;33m=\u001b[0m\u001b[0mdowncast\u001b[0m\u001b[1;33m\u001b[0m\u001b[1;33m\u001b[0m\u001b[0m\n\u001b[0m\u001b[0;32m   6259\u001b[0m                 )\n\u001b[0;32m   6260\u001b[0m \u001b[1;33m\u001b[0m\u001b[0m\n",
      "\u001b[1;32m~\\Anaconda3\\lib\\site-packages\\pandas\\core\\internals\\managers.py\u001b[0m in \u001b[0;36mfillna\u001b[1;34m(self, **kwargs)\u001b[0m\n\u001b[0;32m    573\u001b[0m \u001b[1;33m\u001b[0m\u001b[0m\n\u001b[0;32m    574\u001b[0m     \u001b[1;32mdef\u001b[0m \u001b[0mfillna\u001b[0m\u001b[1;33m(\u001b[0m\u001b[0mself\u001b[0m\u001b[1;33m,\u001b[0m \u001b[1;33m**\u001b[0m\u001b[0mkwargs\u001b[0m\u001b[1;33m)\u001b[0m\u001b[1;33m:\u001b[0m\u001b[1;33m\u001b[0m\u001b[1;33m\u001b[0m\u001b[0m\n\u001b[1;32m--> 575\u001b[1;33m         \u001b[1;32mreturn\u001b[0m \u001b[0mself\u001b[0m\u001b[1;33m.\u001b[0m\u001b[0mapply\u001b[0m\u001b[1;33m(\u001b[0m\u001b[1;34m\"fillna\"\u001b[0m\u001b[1;33m,\u001b[0m \u001b[1;33m**\u001b[0m\u001b[0mkwargs\u001b[0m\u001b[1;33m)\u001b[0m\u001b[1;33m\u001b[0m\u001b[1;33m\u001b[0m\u001b[0m\n\u001b[0m\u001b[0;32m    576\u001b[0m \u001b[1;33m\u001b[0m\u001b[0m\n\u001b[0;32m    577\u001b[0m     \u001b[1;32mdef\u001b[0m \u001b[0mdowncast\u001b[0m\u001b[1;33m(\u001b[0m\u001b[0mself\u001b[0m\u001b[1;33m,\u001b[0m \u001b[1;33m**\u001b[0m\u001b[0mkwargs\u001b[0m\u001b[1;33m)\u001b[0m\u001b[1;33m:\u001b[0m\u001b[1;33m\u001b[0m\u001b[1;33m\u001b[0m\u001b[0m\n",
      "\u001b[1;32m~\\Anaconda3\\lib\\site-packages\\pandas\\core\\internals\\managers.py\u001b[0m in \u001b[0;36mapply\u001b[1;34m(self, f, axes, filter, do_integrity_check, consolidate, **kwargs)\u001b[0m\n\u001b[0;32m    436\u001b[0m                     \u001b[0mkwargs\u001b[0m\u001b[1;33m[\u001b[0m\u001b[0mk\u001b[0m\u001b[1;33m]\u001b[0m \u001b[1;33m=\u001b[0m \u001b[0mobj\u001b[0m\u001b[1;33m.\u001b[0m\u001b[0mreindex\u001b[0m\u001b[1;33m(\u001b[0m\u001b[0mb_items\u001b[0m\u001b[1;33m,\u001b[0m \u001b[0maxis\u001b[0m\u001b[1;33m=\u001b[0m\u001b[0maxis\u001b[0m\u001b[1;33m,\u001b[0m \u001b[0mcopy\u001b[0m\u001b[1;33m=\u001b[0m\u001b[0malign_copy\u001b[0m\u001b[1;33m)\u001b[0m\u001b[1;33m\u001b[0m\u001b[1;33m\u001b[0m\u001b[0m\n\u001b[0;32m    437\u001b[0m \u001b[1;33m\u001b[0m\u001b[0m\n\u001b[1;32m--> 438\u001b[1;33m             \u001b[0mapplied\u001b[0m \u001b[1;33m=\u001b[0m \u001b[0mgetattr\u001b[0m\u001b[1;33m(\u001b[0m\u001b[0mb\u001b[0m\u001b[1;33m,\u001b[0m \u001b[0mf\u001b[0m\u001b[1;33m)\u001b[0m\u001b[1;33m(\u001b[0m\u001b[1;33m**\u001b[0m\u001b[0mkwargs\u001b[0m\u001b[1;33m)\u001b[0m\u001b[1;33m\u001b[0m\u001b[1;33m\u001b[0m\u001b[0m\n\u001b[0m\u001b[0;32m    439\u001b[0m             \u001b[0mresult_blocks\u001b[0m \u001b[1;33m=\u001b[0m \u001b[0m_extend_blocks\u001b[0m\u001b[1;33m(\u001b[0m\u001b[0mapplied\u001b[0m\u001b[1;33m,\u001b[0m \u001b[0mresult_blocks\u001b[0m\u001b[1;33m)\u001b[0m\u001b[1;33m\u001b[0m\u001b[1;33m\u001b[0m\u001b[0m\n\u001b[0;32m    440\u001b[0m \u001b[1;33m\u001b[0m\u001b[0m\n",
      "\u001b[1;32m~\\Anaconda3\\lib\\site-packages\\pandas\\core\\internals\\blocks.py\u001b[0m in \u001b[0;36mfillna\u001b[1;34m(self, value, limit, inplace, downcast)\u001b[0m\n\u001b[0;32m    409\u001b[0m                 \u001b[1;32mraise\u001b[0m \u001b[0mValueError\u001b[0m\u001b[1;33m(\u001b[0m\u001b[1;34m\"Limit must be an integer\"\u001b[0m\u001b[1;33m)\u001b[0m\u001b[1;33m\u001b[0m\u001b[1;33m\u001b[0m\u001b[0m\n\u001b[0;32m    410\u001b[0m             \u001b[1;32mif\u001b[0m \u001b[0mlimit\u001b[0m \u001b[1;33m<\u001b[0m \u001b[1;36m1\u001b[0m\u001b[1;33m:\u001b[0m\u001b[1;33m\u001b[0m\u001b[1;33m\u001b[0m\u001b[0m\n\u001b[1;32m--> 411\u001b[1;33m                 \u001b[1;32mraise\u001b[0m \u001b[0mValueError\u001b[0m\u001b[1;33m(\u001b[0m\u001b[1;34m\"Limit must be greater than 0\"\u001b[0m\u001b[1;33m)\u001b[0m\u001b[1;33m\u001b[0m\u001b[1;33m\u001b[0m\u001b[0m\n\u001b[0m\u001b[0;32m    412\u001b[0m             \u001b[0mmask\u001b[0m\u001b[1;33m[\u001b[0m\u001b[0mmask\u001b[0m\u001b[1;33m.\u001b[0m\u001b[0mcumsum\u001b[0m\u001b[1;33m(\u001b[0m\u001b[0mself\u001b[0m\u001b[1;33m.\u001b[0m\u001b[0mndim\u001b[0m \u001b[1;33m-\u001b[0m \u001b[1;36m1\u001b[0m\u001b[1;33m)\u001b[0m \u001b[1;33m>\u001b[0m \u001b[0mlimit\u001b[0m\u001b[1;33m]\u001b[0m \u001b[1;33m=\u001b[0m \u001b[1;32mFalse\u001b[0m\u001b[1;33m\u001b[0m\u001b[1;33m\u001b[0m\u001b[0m\n\u001b[0;32m    413\u001b[0m \u001b[1;33m\u001b[0m\u001b[0m\n",
      "\u001b[1;31mValueError\u001b[0m: Limit must be greater than 0"
     ]
    }
   ],
   "source": [
    "banana = train_car_data[(train_car_data['fuel_type'] != 'diesel') & (train_car_data['fuel_type'] != 'gasoline')].shape\n",
    "banana1 = banana[0] / 2\n",
    "train_car_data[\"fuel_type\"].fillna( value ='gasoline', limit =  int(banana1), inplace = True) \n",
    "train_car_data[\"fuel_type\"].fillna( value ='diesel', inplace = True) \n",
    "banana = train_car_data[(train_car_data['fuel_type'] != 'diesel') & (train_car_data['fuel_type'] != 'gasoline')].shape\n",
    "print(banana)"
   ]
  },
  {
   "cell_type": "code",
   "execution_count": 143,
   "metadata": {
    "scrolled": true
   },
   "outputs": [
    {
     "name": "stdout",
     "output_type": "stream",
     "text": [
      "Shape of target: (604291,)\n",
      "Skew (log transform): 476.7147586114148\n"
     ]
    }
   ],
   "source": [
    "train_data_target = train_car_data[\"price_eur\"].copy()\n",
    "train_data_target.columns = ['price_eur']\n",
    "print('Shape of target:', train_data_target.shape)\n",
    "print(\"Skew (log transform):\", train_data_target.skew())"
   ]
  },
  {
   "cell_type": "code",
   "execution_count": 146,
   "metadata": {
    "scrolled": true
   },
   "outputs": [
    {
     "ename": "ValueError",
     "evalue": "could not convert string to float: 'None'",
     "output_type": "error",
     "traceback": [
      "\u001b[1;31m---------------------------------------------------------------------------\u001b[0m",
      "\u001b[1;31mValueError\u001b[0m                                Traceback (most recent call last)",
      "\u001b[1;32m<ipython-input-146-bfd0d2a255b7>\u001b[0m in \u001b[0;36m<module>\u001b[1;34m\u001b[0m\n\u001b[0;32m      4\u001b[0m \u001b[1;31m# Train a simple linear regression model\u001b[0m\u001b[1;33m\u001b[0m\u001b[1;33m\u001b[0m\u001b[1;33m\u001b[0m\u001b[0m\n\u001b[0;32m      5\u001b[0m \u001b[0mlr\u001b[0m \u001b[1;33m=\u001b[0m \u001b[0mLinearRegression\u001b[0m\u001b[1;33m(\u001b[0m\u001b[1;33m)\u001b[0m\u001b[1;33m\u001b[0m\u001b[1;33m\u001b[0m\u001b[0m\n\u001b[1;32m----> 6\u001b[1;33m \u001b[0mmodel\u001b[0m\u001b[1;33m=\u001b[0m \u001b[0mlr\u001b[0m\u001b[1;33m.\u001b[0m\u001b[0mfit\u001b[0m\u001b[1;33m(\u001b[0m\u001b[0mXtrain\u001b[0m\u001b[1;33m,\u001b[0m \u001b[0mytrain\u001b[0m\u001b[1;33m)\u001b[0m\u001b[1;33m\u001b[0m\u001b[1;33m\u001b[0m\u001b[0m\n\u001b[0m\u001b[0;32m      7\u001b[0m \u001b[1;33m\u001b[0m\u001b[0m\n",
      "\u001b[1;32m~\\Anaconda3\\lib\\site-packages\\sklearn\\linear_model\\base.py\u001b[0m in \u001b[0;36mfit\u001b[1;34m(self, X, y, sample_weight)\u001b[0m\n\u001b[0;32m    461\u001b[0m         \u001b[0mn_jobs_\u001b[0m \u001b[1;33m=\u001b[0m \u001b[0mself\u001b[0m\u001b[1;33m.\u001b[0m\u001b[0mn_jobs\u001b[0m\u001b[1;33m\u001b[0m\u001b[1;33m\u001b[0m\u001b[0m\n\u001b[0;32m    462\u001b[0m         X, y = check_X_y(X, y, accept_sparse=['csr', 'csc', 'coo'],\n\u001b[1;32m--> 463\u001b[1;33m                          y_numeric=True, multi_output=True)\n\u001b[0m\u001b[0;32m    464\u001b[0m \u001b[1;33m\u001b[0m\u001b[0m\n\u001b[0;32m    465\u001b[0m         \u001b[1;32mif\u001b[0m \u001b[0msample_weight\u001b[0m \u001b[1;32mis\u001b[0m \u001b[1;32mnot\u001b[0m \u001b[1;32mNone\u001b[0m \u001b[1;32mand\u001b[0m \u001b[0mnp\u001b[0m\u001b[1;33m.\u001b[0m\u001b[0matleast_1d\u001b[0m\u001b[1;33m(\u001b[0m\u001b[0msample_weight\u001b[0m\u001b[1;33m)\u001b[0m\u001b[1;33m.\u001b[0m\u001b[0mndim\u001b[0m \u001b[1;33m>\u001b[0m \u001b[1;36m1\u001b[0m\u001b[1;33m:\u001b[0m\u001b[1;33m\u001b[0m\u001b[1;33m\u001b[0m\u001b[0m\n",
      "\u001b[1;32m~\\Anaconda3\\lib\\site-packages\\sklearn\\utils\\validation.py\u001b[0m in \u001b[0;36mcheck_X_y\u001b[1;34m(X, y, accept_sparse, accept_large_sparse, dtype, order, copy, force_all_finite, ensure_2d, allow_nd, multi_output, ensure_min_samples, ensure_min_features, y_numeric, warn_on_dtype, estimator)\u001b[0m\n\u001b[0;32m    717\u001b[0m                     \u001b[0mensure_min_features\u001b[0m\u001b[1;33m=\u001b[0m\u001b[0mensure_min_features\u001b[0m\u001b[1;33m,\u001b[0m\u001b[1;33m\u001b[0m\u001b[1;33m\u001b[0m\u001b[0m\n\u001b[0;32m    718\u001b[0m                     \u001b[0mwarn_on_dtype\u001b[0m\u001b[1;33m=\u001b[0m\u001b[0mwarn_on_dtype\u001b[0m\u001b[1;33m,\u001b[0m\u001b[1;33m\u001b[0m\u001b[1;33m\u001b[0m\u001b[0m\n\u001b[1;32m--> 719\u001b[1;33m                     estimator=estimator)\n\u001b[0m\u001b[0;32m    720\u001b[0m     \u001b[1;32mif\u001b[0m \u001b[0mmulti_output\u001b[0m\u001b[1;33m:\u001b[0m\u001b[1;33m\u001b[0m\u001b[1;33m\u001b[0m\u001b[0m\n\u001b[0;32m    721\u001b[0m         y = check_array(y, 'csr', force_all_finite=True, ensure_2d=False,\n",
      "\u001b[1;32m~\\Anaconda3\\lib\\site-packages\\sklearn\\utils\\validation.py\u001b[0m in \u001b[0;36mcheck_array\u001b[1;34m(array, accept_sparse, accept_large_sparse, dtype, order, copy, force_all_finite, ensure_2d, allow_nd, ensure_min_samples, ensure_min_features, warn_on_dtype, estimator)\u001b[0m\n\u001b[0;32m    534\u001b[0m         \u001b[1;31m# make sure we actually converted to numeric:\u001b[0m\u001b[1;33m\u001b[0m\u001b[1;33m\u001b[0m\u001b[1;33m\u001b[0m\u001b[0m\n\u001b[0;32m    535\u001b[0m         \u001b[1;32mif\u001b[0m \u001b[0mdtype_numeric\u001b[0m \u001b[1;32mand\u001b[0m \u001b[0marray\u001b[0m\u001b[1;33m.\u001b[0m\u001b[0mdtype\u001b[0m\u001b[1;33m.\u001b[0m\u001b[0mkind\u001b[0m \u001b[1;33m==\u001b[0m \u001b[1;34m\"O\"\u001b[0m\u001b[1;33m:\u001b[0m\u001b[1;33m\u001b[0m\u001b[1;33m\u001b[0m\u001b[0m\n\u001b[1;32m--> 536\u001b[1;33m             \u001b[0marray\u001b[0m \u001b[1;33m=\u001b[0m \u001b[0marray\u001b[0m\u001b[1;33m.\u001b[0m\u001b[0mastype\u001b[0m\u001b[1;33m(\u001b[0m\u001b[0mnp\u001b[0m\u001b[1;33m.\u001b[0m\u001b[0mfloat64\u001b[0m\u001b[1;33m)\u001b[0m\u001b[1;33m\u001b[0m\u001b[1;33m\u001b[0m\u001b[0m\n\u001b[0m\u001b[0;32m    537\u001b[0m         \u001b[1;32mif\u001b[0m \u001b[1;32mnot\u001b[0m \u001b[0mallow_nd\u001b[0m \u001b[1;32mand\u001b[0m \u001b[0marray\u001b[0m\u001b[1;33m.\u001b[0m\u001b[0mndim\u001b[0m \u001b[1;33m>=\u001b[0m \u001b[1;36m3\u001b[0m\u001b[1;33m:\u001b[0m\u001b[1;33m\u001b[0m\u001b[1;33m\u001b[0m\u001b[0m\n\u001b[0;32m    538\u001b[0m             raise ValueError(\"Found array with dim %d. %s expected <= 2.\"\n",
      "\u001b[1;31mValueError\u001b[0m: could not convert string to float: 'None'"
     ]
    }
   ],
   "source": [
    "# Split dataset usuing `train_test_split()`\n",
    "Xtrain, Xtest, ytrain, ytest = train_test_split(train_car_data, train_data_target, test_size= 0.2, random_state=0)\n",
    "\n",
    "# Train a simple linear regression model\n",
    "lr = LinearRegression()\n",
    "model= lr.fit(Xtrain, ytrain)\n",
    "\n"
   ]
  },
  {
   "cell_type": "code",
   "execution_count": null,
   "metadata": {},
   "outputs": [],
   "source": [
    "# Make predictions using the trained model on test set\n",
    "ypredtest = model.predict(Xtest)\n",
    "ypredtrain = model.predict(Xtrain)\n",
    "# Evaluate model on test set using sklearn's metrics.mean_squared_error()\n",
    "RSMEtest= metrics.mean_squared_error(ytest, ypredtest)\n",
    "\n",
    "# Evaluate model on train set using sklearn's metrics.mean_squared_error()\n",
    "RSMEtrain= metrics.mean_squared_error(ytrain, ypredtrain)\n",
    "\n",
    "print(\"RMSE on Train set :\", RSMEtrain)\n",
    "print(\"RMSE on Test set :\", RSMEtest)\n",
    "plt.show()\n",
    "\n",
    "# Plotting linear model\n",
    "plt.scatter(ytest, ypredtest, color='green')\n",
    "plt.scatter(ytrain, ypredtrain, color='blue')\n",
    "\n",
    "plt.show()"
   ]
  }
 ],
 "metadata": {
  "kernelspec": {
   "display_name": "Python 3",
   "language": "python",
   "name": "python3"
  },
  "language_info": {
   "codemirror_mode": {
    "name": "ipython",
    "version": 3
   },
   "file_extension": ".py",
   "mimetype": "text/x-python",
   "name": "python",
   "nbconvert_exporter": "python",
   "pygments_lexer": "ipython3",
   "version": "3.7.4"
  }
 },
 "nbformat": 4,
 "nbformat_minor": 4
}
