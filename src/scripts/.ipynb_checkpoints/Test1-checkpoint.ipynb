{
 "cells": [
  {
   "cell_type": "code",
   "execution_count": 2,
   "metadata": {},
   "outputs": [],
   "source": [
    "import argparse\n",
    "import os\n",
    "import scipy\n",
    "import numpy as np\n",
    "import matplotlib.pyplot as plt\n",
    "import pandas as pd\n",
    "import sklearn\n",
    "from sklearn.linear_model import LinearRegression\n",
    "from sklearn.model_selection import train_test_split\n",
    "from sklearn import metrics\n",
    "from sklearn.preprocessing import LabelEncoder\n",
    "import sqlite3\n",
    "%matplotlib inline\n",
    "\n",
    "PATH = \"../../datasets/result2.csv\";"
   ]
  },
  {
   "cell_type": "code",
   "execution_count": 3,
   "metadata": {},
   "outputs": [],
   "source": [
    "train_car_data = pd.read_csv(PATH)"
   ]
  },
  {
   "cell_type": "code",
   "execution_count": 4,
   "metadata": {},
   "outputs": [
    {
     "name": "stdout",
     "output_type": "stream",
     "text": [
      "<class 'pandas.core.frame.DataFrame'>\n",
      "RangeIndex: 107305 entries, 0 to 107304\n",
      "Data columns (total 11 columns):\n",
      "Unnamed: 0    107305 non-null int64\n",
      "brand         107305 non-null object\n",
      "gear          107305 non-null object\n",
      "model         107305 non-null object\n",
      "price         107305 non-null int64\n",
      "fuel          107305 non-null object\n",
      "milage        107305 non-null float64\n",
      "hp            107305 non-null float64\n",
      "type          107305 non-null object\n",
      "geo           107305 non-null object\n",
      "model_year    107305 non-null int64\n",
      "dtypes: float64(2), int64(3), object(6)\n",
      "memory usage: 9.0+ MB\n"
     ]
    }
   ],
   "source": [
    "train_car_data.info()"
   ]
  },
  {
   "cell_type": "code",
   "execution_count": 5,
   "metadata": {},
   "outputs": [
    {
     "ename": "AttributeError",
     "evalue": "'DataFrame' object has no attribute 'door_count'",
     "output_type": "error",
     "traceback": [
      "\u001b[1;31m---------------------------------------------------------------------------\u001b[0m",
      "\u001b[1;31mAttributeError\u001b[0m                            Traceback (most recent call last)",
      "\u001b[1;32m<ipython-input-5-4b88b60e8445>\u001b[0m in \u001b[0;36m<module>\u001b[1;34m\u001b[0m\n\u001b[0;32m      2\u001b[0m \u001b[0mtrain_car_data\u001b[0m\u001b[1;33m.\u001b[0m\u001b[0mreplace\u001b[0m\u001b[1;33m(\u001b[0m\u001b[1;34m'None'\u001b[0m\u001b[1;33m,\u001b[0m\u001b[0mnp\u001b[0m\u001b[1;33m.\u001b[0m\u001b[0mnan\u001b[0m\u001b[1;33m,\u001b[0m \u001b[0mregex\u001b[0m\u001b[1;33m=\u001b[0m\u001b[1;32mTrue\u001b[0m\u001b[1;33m)\u001b[0m\u001b[1;33m\u001b[0m\u001b[1;33m\u001b[0m\u001b[0m\n\u001b[0;32m      3\u001b[0m \u001b[1;33m\u001b[0m\u001b[0m\n\u001b[1;32m----> 4\u001b[1;33m \u001b[0mtrain_car_data\u001b[0m \u001b[1;33m=\u001b[0m \u001b[0mtrain_car_data\u001b[0m\u001b[1;33m[\u001b[0m\u001b[1;33m(\u001b[0m\u001b[0mtrain_car_data\u001b[0m\u001b[1;33m.\u001b[0m\u001b[0mdoor_count\u001b[0m \u001b[1;33m==\u001b[0m \u001b[1;34m\"1\"\u001b[0m\u001b[1;33m)\u001b[0m \u001b[1;33m|\u001b[0m \u001b[1;33m(\u001b[0m\u001b[0mtrain_car_data\u001b[0m\u001b[1;33m.\u001b[0m\u001b[0mdoor_count\u001b[0m \u001b[1;33m==\u001b[0m \u001b[1;34m\"2\"\u001b[0m\u001b[1;33m)\u001b[0m \u001b[1;33m|\u001b[0m \u001b[1;33m(\u001b[0m\u001b[0mtrain_car_data\u001b[0m\u001b[1;33m.\u001b[0m\u001b[0mdoor_count\u001b[0m \u001b[1;33m==\u001b[0m \u001b[1;34m\"3\"\u001b[0m\u001b[1;33m)\u001b[0m \u001b[1;33m|\u001b[0m \u001b[1;33m(\u001b[0m\u001b[0mtrain_car_data\u001b[0m\u001b[1;33m.\u001b[0m\u001b[0mdoor_count\u001b[0m \u001b[1;33m==\u001b[0m \u001b[1;34m\"4\"\u001b[0m\u001b[1;33m)\u001b[0m  \u001b[1;33m|\u001b[0m \u001b[1;33m(\u001b[0m\u001b[0mtrain_car_data\u001b[0m\u001b[1;33m.\u001b[0m\u001b[0mdoor_count\u001b[0m \u001b[1;33m==\u001b[0m \u001b[1;34m\"5\"\u001b[0m\u001b[1;33m)\u001b[0m\u001b[1;33m]\u001b[0m\u001b[1;33m\u001b[0m\u001b[1;33m\u001b[0m\u001b[0m\n\u001b[0m\u001b[0;32m      5\u001b[0m \u001b[0mtrain_car_data\u001b[0m \u001b[1;33m=\u001b[0m \u001b[0mtrain_car_data\u001b[0m\u001b[1;33m[\u001b[0m\u001b[1;33m(\u001b[0m\u001b[0mtrain_car_data\u001b[0m\u001b[1;33m.\u001b[0m\u001b[0mseat_count\u001b[0m \u001b[1;33m==\u001b[0m \u001b[1;34m\"2\"\u001b[0m\u001b[1;33m)\u001b[0m \u001b[1;33m|\u001b[0m \u001b[1;33m(\u001b[0m\u001b[0mtrain_car_data\u001b[0m\u001b[1;33m.\u001b[0m\u001b[0mseat_count\u001b[0m \u001b[1;33m==\u001b[0m \u001b[1;34m\"3\"\u001b[0m\u001b[1;33m)\u001b[0m \u001b[1;33m|\u001b[0m \u001b[1;33m(\u001b[0m\u001b[0mtrain_car_data\u001b[0m\u001b[1;33m.\u001b[0m\u001b[0mseat_count\u001b[0m \u001b[1;33m==\u001b[0m \u001b[1;34m\"4\"\u001b[0m\u001b[1;33m)\u001b[0m  \u001b[1;33m|\u001b[0m \u001b[1;33m(\u001b[0m\u001b[0mtrain_car_data\u001b[0m\u001b[1;33m.\u001b[0m\u001b[0mseat_count\u001b[0m \u001b[1;33m==\u001b[0m \u001b[1;34m\"5\"\u001b[0m\u001b[1;33m)\u001b[0m \u001b[1;33m|\u001b[0m \u001b[1;33m(\u001b[0m\u001b[0mtrain_car_data\u001b[0m\u001b[1;33m.\u001b[0m\u001b[0mseat_count\u001b[0m \u001b[1;33m==\u001b[0m \u001b[1;34m\"6\"\u001b[0m\u001b[1;33m)\u001b[0m \u001b[1;33m|\u001b[0m \u001b[1;33m(\u001b[0m\u001b[0mtrain_car_data\u001b[0m\u001b[1;33m.\u001b[0m\u001b[0mseat_count\u001b[0m \u001b[1;33m==\u001b[0m \u001b[1;34m\"7\"\u001b[0m\u001b[1;33m)\u001b[0m \u001b[1;33m]\u001b[0m\u001b[1;33m\u001b[0m\u001b[1;33m\u001b[0m\u001b[0m\n\u001b[0;32m      6\u001b[0m \u001b[0mtrain_car_data\u001b[0m \u001b[1;33m=\u001b[0m \u001b[0mtrain_car_data\u001b[0m\u001b[1;33m[\u001b[0m\u001b[0mtrain_car_data\u001b[0m\u001b[1;33m.\u001b[0m\u001b[0mmileage\u001b[0m \u001b[1;33m<\u001b[0m \u001b[1;36m800000\u001b[0m\u001b[1;33m]\u001b[0m\u001b[1;33m\u001b[0m\u001b[1;33m\u001b[0m\u001b[0m\n",
      "\u001b[1;32m~\\Anaconda3\\lib\\site-packages\\pandas\\core\\generic.py\u001b[0m in \u001b[0;36m__getattr__\u001b[1;34m(self, name)\u001b[0m\n\u001b[0;32m   5177\u001b[0m             \u001b[1;32mif\u001b[0m \u001b[0mself\u001b[0m\u001b[1;33m.\u001b[0m\u001b[0m_info_axis\u001b[0m\u001b[1;33m.\u001b[0m\u001b[0m_can_hold_identifiers_and_holds_name\u001b[0m\u001b[1;33m(\u001b[0m\u001b[0mname\u001b[0m\u001b[1;33m)\u001b[0m\u001b[1;33m:\u001b[0m\u001b[1;33m\u001b[0m\u001b[1;33m\u001b[0m\u001b[0m\n\u001b[0;32m   5178\u001b[0m                 \u001b[1;32mreturn\u001b[0m \u001b[0mself\u001b[0m\u001b[1;33m[\u001b[0m\u001b[0mname\u001b[0m\u001b[1;33m]\u001b[0m\u001b[1;33m\u001b[0m\u001b[1;33m\u001b[0m\u001b[0m\n\u001b[1;32m-> 5179\u001b[1;33m             \u001b[1;32mreturn\u001b[0m \u001b[0mobject\u001b[0m\u001b[1;33m.\u001b[0m\u001b[0m__getattribute__\u001b[0m\u001b[1;33m(\u001b[0m\u001b[0mself\u001b[0m\u001b[1;33m,\u001b[0m \u001b[0mname\u001b[0m\u001b[1;33m)\u001b[0m\u001b[1;33m\u001b[0m\u001b[1;33m\u001b[0m\u001b[0m\n\u001b[0m\u001b[0;32m   5180\u001b[0m \u001b[1;33m\u001b[0m\u001b[0m\n\u001b[0;32m   5181\u001b[0m     \u001b[1;32mdef\u001b[0m \u001b[0m__setattr__\u001b[0m\u001b[1;33m(\u001b[0m\u001b[0mself\u001b[0m\u001b[1;33m,\u001b[0m \u001b[0mname\u001b[0m\u001b[1;33m,\u001b[0m \u001b[0mvalue\u001b[0m\u001b[1;33m)\u001b[0m\u001b[1;33m:\u001b[0m\u001b[1;33m\u001b[0m\u001b[1;33m\u001b[0m\u001b[0m\n",
      "\u001b[1;31mAttributeError\u001b[0m: 'DataFrame' object has no attribute 'door_count'"
     ]
    }
   ],
   "source": [
    "train_car_data.replace('',np.nan, regex=True)\n",
    "train_car_data.replace('None',np.nan, regex=True)\n",
    "\n",
    "train_car_data = train_car_data[(train_car_data.door_count == \"1\") | (train_car_data.door_count == \"2\") | (train_car_data.door_count == \"3\") | (train_car_data.door_count == \"4\")  | (train_car_data.door_count == \"5\")]\n",
    "train_car_data = train_car_data[(train_car_data.seat_count == \"2\") | (train_car_data.seat_count == \"3\") | (train_car_data.seat_count == \"4\")  | (train_car_data.seat_count == \"5\") | (train_car_data.seat_count == \"6\") | (train_car_data.seat_count == \"7\") ]\n",
    "train_car_data = train_car_data[train_car_data.mileage < 800000]\n",
    "train_car_data = train_car_data[(train_car_data.fuel_type == \"gasoline\") | (train_car_data.fuel_type == \"diesel\") ]\n",
    "train_car_data = train_car_data[(train_car_data.transmission == \"man\") | (train_car_data.transmission == \"auto\") ]\n",
    "\n",
    "train_car_data = train_car_data.dropna(axis =0)\n",
    "\n",
    "train_car_data['door_count'] = train_car_data['door_count'].astype(float)\n",
    "train_car_data['seat_count'] = train_car_data['seat_count'].astype(float)\n",
    "\n",
    "train_car_data = pd.get_dummies(train_car_data, dummy_na = False, columns=['fuel_type','transmission'] )\n",
    "\n",
    "train_car_data['Model_maker'] = train_car_data['maker'] + \" \" +  train_car_data['model'] \n",
    "train_car_data = train_car_data.drop(['model','maker'], axis = 1) "
   ]
  },
  {
   "cell_type": "code",
   "execution_count": null,
   "metadata": {},
   "outputs": [],
   "source": [
    "lb_make = LabelEncoder()\n",
    "train_car_data[\"make_code\"] = lb_make.fit_transform(train_car_data[\"Model_maker\"])\n",
    "print(train_car_data[[\"Model_maker\", \"make_code\"]].head(11))"
   ]
  },
  {
   "cell_type": "code",
   "execution_count": 8,
   "metadata": {
    "scrolled": true
   },
   "outputs": [
    {
     "name": "stdout",
     "output_type": "stream",
     "text": [
      "<class 'pandas.core.frame.DataFrame'>\n",
      "Int64Index: 351752 entries, 0 to 425058\n",
      "Data columns (total 14 columns):\n",
      "Unnamed: 0             351752 non-null int64\n",
      "door_count             351752 non-null float64\n",
      "engine_power           351752 non-null float64\n",
      "manufacture_year       351752 non-null float64\n",
      "price_eur              351752 non-null float64\n",
      "mileage                351752 non-null float64\n",
      "seat_count             351752 non-null float64\n",
      "engine_displacement    351752 non-null float64\n",
      "fuel_type_diesel       351752 non-null uint8\n",
      "fuel_type_gasoline     351752 non-null uint8\n",
      "transmission_auto      351752 non-null uint8\n",
      "transmission_man       351752 non-null uint8\n",
      "Model_maker            351752 non-null object\n",
      "make_code              351752 non-null int32\n",
      "dtypes: float64(7), int32(1), int64(1), object(1), uint8(4)\n",
      "memory usage: 29.5+ MB\n",
      "None\n"
     ]
    }
   ],
   "source": [
    "print(train_car_data.info())"
   ]
  },
  {
   "cell_type": "code",
   "execution_count": 9,
   "metadata": {
    "scrolled": true
   },
   "outputs": [
    {
     "name": "stdout",
     "output_type": "stream",
     "text": [
      "price_eur              1.000000\n",
      "engine_power           0.108957\n",
      "engine_displacement    0.078578\n",
      "transmission_auto      0.061238\n",
      "manufacture_year       0.055319\n",
      "fuel_type_diesel       0.023406\n",
      "Unnamed: 0             0.002290\n",
      "door_count            -0.004718\n",
      "seat_count            -0.012995\n",
      "fuel_type_gasoline    -0.023406\n",
      "make_code             -0.026222\n",
      "transmission_man      -0.061238\n",
      "mileage               -0.064209\n",
      "Name: price_eur, dtype: float64\n"
     ]
    }
   ],
   "source": [
    "# correlation of each numeric feature with target 'price_eur' feature\n",
    "feature_corr = train_car_data.corr()\n",
    "print(feature_corr['price_eur'].sort_values(ascending=False))"
   ]
  },
  {
   "cell_type": "code",
   "execution_count": 10,
   "metadata": {},
   "outputs": [
    {
     "name": "stdout",
     "output_type": "stream",
     "text": [
      "Shape of features: (351752, 12)\n",
      "Shape of target: (351752,)\n",
      "make_code              0\n",
      "transmission_man       0\n",
      "transmission_auto      0\n",
      "fuel_type_gasoline     0\n",
      "fuel_type_diesel       0\n",
      "engine_displacement    0\n",
      "seat_count             0\n",
      "mileage                0\n",
      "manufacture_year       0\n",
      "engine_power           0\n",
      "door_count             0\n",
      "Unnamed: 0             0\n",
      "dtype: int64\n"
     ]
    }
   ],
   "source": [
    "\n",
    "### Step 3: Transform and select features\n",
    "    \n",
    "train_data_features = train_car_data.drop('price_eur', axis =1) # drop() creates a copy and does not affect original data\n",
    "train_data_features = train_data_features.drop('Model_maker', axis =1) # drop() creates a copy and does not affect original data\n",
    "\n",
    "train_data_target = train_car_data[\"price_eur\"].copy() \n",
    "train_data_target.columns = ['price_eur']\n",
    "\n",
    "print('Shape of features:', train_data_features.shape)\n",
    "print('Shape of target:', train_data_target.shape)\n",
    "missing_values_train = train_data_features.isnull().sum().sort_values(ascending= False)\n",
    "print(missing_values_train.head(30))\n"
   ]
  },
  {
   "cell_type": "code",
   "execution_count": 11,
   "metadata": {},
   "outputs": [
    {
     "name": "stdout",
     "output_type": "stream",
     "text": [
      "Shape of target: (351752,)\n",
      "Skew (log transform): 455.58691808878206\n"
     ]
    }
   ],
   "source": [
    "train_data_target = train_car_data[\"price_eur\"].copy()\n",
    "train_data_target.columns = ['price_eur']\n",
    "print('Shape of target:', train_data_target.shape)\n",
    "print(\"Skew (log transform):\", train_data_target.skew())"
   ]
  },
  {
   "cell_type": "code",
   "execution_count": 12,
   "metadata": {},
   "outputs": [
    {
     "name": "stdout",
     "output_type": "stream",
     "text": [
      "RMSE on Train set : 11073847369.591616\n",
      "RMSE on Test  set : 137451730.99307913\n"
     ]
    },
    {
     "data": {
      "image/png": "[encoded data removed]",
      "text/plain": [
       "<Figure size 432x288 with 1 Axes>"
      ]
     },
     "metadata": {
      "needs_background": "light"
     },
     "output_type": "display_data"
    }
   ],
   "source": [
    "# Split dataset usuing `train_test_split()`\n",
    "Xtrain, Xtest, ytrain, ytest = train_test_split(train_data_features, train_data_target, test_size=0.2, random_state=0)\n",
    "\n",
    "# Train a simple linear regression model\n",
    "lr = LinearRegression()\n",
    "model= lr.fit(Xtrain, ytrain)\n",
    "# Make predictions using the trained model on test set\n",
    "ypredtest = model.predict(Xtest)\n",
    "ypredtrain = model.predict(Xtrain)\n",
    "# Evaluate model on test set using sklearn's metrics.mean_squared_error()\n",
    "RSMEtest= metrics.mean_squared_error(ytest, ypredtest)\n",
    "\n",
    "# Evaluate model on train set using sklearn's metrics.mean_squared_error()\n",
    "RSMEtrain= metrics.mean_squared_error(ytrain, ypredtrain)\n",
    "\n",
    "print(\"RMSE on Train set :\", RSMEtrain)\n",
    "print(\"RMSE on Test  set :\", RSMEtest)\n",
    "plt.show()\n",
    "\n",
    "# Plotting linear model\n",
    "plt.scatter(ytest, ypredtest, color='green')\n",
    "plt.scatter(ytrain, ypredtrain, color='blue')\n",
    "\n",
    "plt.show()"
   ]
  },
  {
   "cell_type": "code",
   "execution_count": 13,
   "metadata": {
    "scrolled": false
   },
   "outputs": [],
   "source": [
    "# Scatter Matrix\n",
    "#scatter_features = ['price_eur', 'engine_power','engine_displacement', 'transmission_auto', 'manufacture_year', 'fuel_type_diesel','door_count','seat_count','fuel_type_gasoline','transmission_man','mileage']\n",
    "#pd.plotting.scatter_matrix(train_car_data[scatter_features], figsize=(15,10))\n",
    "#plt.show()\n"
   ]
  },
  {
   "cell_type": "code",
   "execution_count": 14,
   "metadata": {},
   "outputs": [],
   "source": [
    "# Pivot table to evaluate relationship of SaleCondition and SalePrice\n",
    "#condition_pivot = train_car_data.pivot_table(index='price_eur', values='manufacture_year', aggfunc=np.median)\n",
    "#condition_pivot.plot(kind='bar', color='blue')"
   ]
  },
  {
   "cell_type": "code",
   "execution_count": 15,
   "metadata": {},
   "outputs": [
    {
     "name": "stdout",
     "output_type": "stream",
     "text": [
      "RMSE on Train set : 11073847369.74621\n",
      "RMSE on Test  set : 137451551.9898809\n"
     ]
    },
    {
     "data": {
      "image/png": "[encoded data removed]",
      "text/plain": [
       "<Figure size 432x288 with 1 Axes>"
      ]
     },
     "metadata": {
      "needs_background": "light"
     },
     "output_type": "display_data"
    }
   ],
   "source": [
    "from sklearn import linear_model\n",
    "from sklearn.model_selection import train_test_split\n",
    "from sklearn.linear_model import LinearRegression\n",
    "from sklearn.ensemble import RandomForestRegressor\n",
    "from sklearn.metrics import mean_absolute_error\n",
    "from sklearn.metrics import mean_squared_error\n",
    "from sklearn.metrics import r2_score\n",
    "\n",
    "model = linear_model.Lasso(alpha=0.1)\n",
    "\n",
    "Xtrain, Xtest, ytrain, ytest = train_test_split(train_data_features, train_data_target, test_size=0.2, random_state=0)\n",
    "\n",
    "model.fit(Xtrain, ytrain)\n",
    "# Make predictions using the trained model on test set\n",
    "ypredtest = model.predict(Xtest)\n",
    "ypredtrain = model.predict(Xtrain)\n",
    "# Evaluate model on test set using sklearn's metrics.mean_squared_error()\n",
    "RSMEtest= metrics.mean_squared_error(ytest, ypredtest)\n",
    "\n",
    "# Evaluate model on train set using sklearn's metrics.mean_squared_error()\n",
    "RSMEtrain= metrics.mean_squared_error(ytrain, ypredtrain)\n",
    "\n",
    "print(\"RMSE on Train set :\", RSMEtrain)\n",
    "print(\"RMSE on Test  set :\", RSMEtest)\n",
    "plt.show()\n",
    "\n",
    "# Plotting linear model\n",
    "plt.scatter(ytest, ypredtest, color='green')\n",
    "plt.scatter(ytrain, ypredtrain, color='blue')\n",
    "\n",
    "plt.show()"
   ]
  },
  {
   "cell_type": "code",
   "execution_count": 16,
   "metadata": {},
   "outputs": [
    {
     "name": "stdout",
     "output_type": "stream",
     "text": [
      "MAE on Train set for linear regression : 4942.397772018638\n",
      "MAE on Test  set  for Linear regression : 4690.6592837505095\n",
      "R2_score on Train set for linear regression : 1.3161406577459345\n",
      "R2_score on Test  set  for Linear regression : 50.174167609052176\n"
     ]
    }
   ],
   "source": [
    "MAE_Linear_Test = metrics.mean_absolute_error(\n",
    "    ytest, ypredtest, multioutput='uniform_average')\n",
    "MAE_Linear_Train = metrics.mean_absolute_error(\n",
    "    ytrain, ypredtrain, multioutput='uniform_average')\n",
    "\n",
    "print(\"MAE on Train set for linear regression :\", MAE_Linear_Train)\n",
    "print(\"MAE on Test  set  for Linear regression :\", MAE_Linear_Test)\n",
    "\n",
    "\n",
    "# Second Metric\n",
    "R2_Linear_Test = metrics.r2_score(ytest, ypredtest)*100\n",
    "R2_Linear_Train = metrics.r2_score(ytrain, ypredtrain)*100\n",
    "\n",
    "print(\"R2_score on Train set for linear regression :\", R2_Linear_Train)\n",
    "print(\"R2_score on Test  set  for Linear regression :\", R2_Linear_Test)\n",
    "\n"
   ]
  },
  {
   "cell_type": "code",
   "execution_count": 17,
   "metadata": {
    "scrolled": true
   },
   "outputs": [
    {
     "name": "stdout",
     "output_type": "stream",
     "text": [
      "RMSE on Train set : 11073847385.050842\n",
      "RMSE on Test  set : 137449954.76489857\n"
     ]
    },
    {
     "data": {
      "image/png": "[encoded data removed]",
      "text/plain": [
       "<Figure size 432x288 with 1 Axes>"
      ]
     },
     "metadata": {
      "needs_background": "light"
     },
     "output_type": "display_data"
    }
   ],
   "source": [
    "from sklearn import linear_model\n",
    "from sklearn.model_selection import train_test_split\n",
    "from sklearn.linear_model import LinearRegression\n",
    "from sklearn.ensemble import RandomForestRegressor\n",
    "from sklearn.metrics import mean_absolute_error\n",
    "from sklearn.metrics import mean_squared_error\n",
    "from sklearn.metrics import r2_score\n",
    "\n",
    "model = linear_model.Lasso(alpha=1)\n",
    "\n",
    "Xtrain, Xtest, ytrain, ytest = train_test_split(train_data_features, train_data_target, test_size=0.2, random_state=0)\n",
    "\n",
    "model.fit(Xtrain, ytrain)\n",
    "# Make predictions using the trained model on test set\n",
    "ypredtest = model.predict(Xtest)\n",
    "ypredtrain = model.predict(Xtrain)\n",
    "# Evaluate model on test set using sklearn's metrics.mean_squared_error()\n",
    "RSMEtest= metrics.mean_squared_error(ytest, ypredtest)\n",
    "\n",
    "# Evaluate model on train set using sklearn's metrics.mean_squared_error()\n",
    "RSMEtrain= metrics.mean_squared_error(ytrain, ypredtrain)\n",
    "\n",
    "print(\"RMSE on Train set :\", RSMEtrain)\n",
    "print(\"RMSE on Test  set :\", RSMEtest)\n",
    "plt.show()\n",
    "\n",
    "# Plotting linear model\n",
    "plt.scatter(ytest, ypredtest, color='green')\n",
    "plt.scatter(ytrain, ypredtrain, color='blue')\n",
    "\n",
    "plt.show()"
   ]
  },
  {
   "cell_type": "code",
   "execution_count": 18,
   "metadata": {},
   "outputs": [
    {
     "name": "stdout",
     "output_type": "stream",
     "text": [
      "MAE on Train set for linear regression : 4942.051374289778\n",
      "MAE on Test  set  for Linear regression : 4690.305457758914\n",
      "R2_score on Train set for linear regression : 1.31614052135971\n",
      "R2_score on Test  set  for Linear regression : 50.17474659898069\n"
     ]
    }
   ],
   "source": [
    "MAE_Linear_Test = metrics.mean_absolute_error(\n",
    "    ytest, ypredtest, multioutput='uniform_average')\n",
    "MAE_Linear_Train = metrics.mean_absolute_error(\n",
    "    ytrain, ypredtrain, multioutput='uniform_average')\n",
    "\n",
    "print(\"MAE on Train set for linear regression :\", MAE_Linear_Train)\n",
    "print(\"MAE on Test  set  for Linear regression :\", MAE_Linear_Test)\n",
    "\n",
    "\n",
    "# Second Metric\n",
    "R2_Linear_Test = metrics.r2_score(ytest, ypredtest)*100\n",
    "R2_Linear_Train = metrics.r2_score(ytrain, ypredtrain)*100\n",
    "\n",
    "print(\"R2_score on Train set for linear regression :\", R2_Linear_Train)\n",
    "print(\"R2_score on Test  set  for Linear regression :\", R2_Linear_Test)\n",
    "\n"
   ]
  },
  {
   "cell_type": "code",
   "execution_count": 19,
   "metadata": {},
   "outputs": [
    {
     "name": "stderr",
     "output_type": "stream",
     "text": [
      "C:\\Users\\sakog\\Anaconda3\\lib\\site-packages\\sklearn\\ensemble\\forest.py:245: FutureWarning: The default value of n_estimators will change from 10 in version 0.20 to 100 in 0.22.\n",
      "  \"10 in version 0.20 to 100 in 0.22.\", FutureWarning)\n"
     ]
    },
    {
     "name": "stdout",
     "output_type": "stream",
     "text": [
      "RMSE on Train set : 2661787350.0872235\n",
      "RMSE on Test  set : 84309805.38502523\n"
     ]
    },
    {
     "data": {
      "image/png": "[encoded data removed]",
      "text/plain": [
       "<Figure size 432x288 with 1 Axes>"
      ]
     },
     "metadata": {
      "needs_background": "light"
     },
     "output_type": "display_data"
    }
   ],
   "source": [
    "model = RandomForestRegressor()\n",
    "Xtrain, Xtest, ytrain, ytest = train_test_split(train_data_features, train_data_target, test_size=0.2, random_state=0)\n",
    "\n",
    "model.fit(Xtrain, ytrain)\n",
    "# Make predictions using the trained model on test set\n",
    "ypredtest = model.predict(Xtest)\n",
    "ypredtrain = model.predict(Xtrain)\n",
    "# Evaluate model on test set using sklearn's metrics.mean_squared_error()\n",
    "RSMEtest= metrics.mean_squared_error(ytest, ypredtest)\n",
    "\n",
    "# Evaluate model on train set using sklearn's metrics.mean_squared_error()\n",
    "RSMEtrain= metrics.mean_squared_error(ytrain, ypredtrain)\n",
    "\n",
    "print(\"RMSE on Train set :\", RSMEtrain)\n",
    "print(\"RMSE on Test  set :\", RSMEtest)\n",
    "plt.show()\n",
    "\n",
    "# Plotting linear model\n",
    "plt.scatter(ytest, ypredtest, color='green')\n",
    "plt.scatter(ytrain, ypredtrain, color='blue')\n",
    "\n",
    "plt.show()"
   ]
  },
  {
   "cell_type": "code",
   "execution_count": 20,
   "metadata": {},
   "outputs": [
    {
     "name": "stdout",
     "output_type": "stream",
     "text": [
      "MAE on Train set for linear regression : 860.4080730345667\n",
      "MAE on Test  set  for Linear regression : 1582.690606288468\n",
      "R2_score on Train set for linear regression : 76.27965785652519\n",
      "R2_score on Test  set  for Linear regression : 69.43791342321869\n"
     ]
    }
   ],
   "source": [
    "MAE_Linear_Test = metrics.mean_absolute_error(\n",
    "    ytest, ypredtest, multioutput='uniform_average')\n",
    "MAE_Linear_Train = metrics.mean_absolute_error(\n",
    "    ytrain, ypredtrain, multioutput='uniform_average')\n",
    "\n",
    "print(\"MAE on Train set for linear regression :\", MAE_Linear_Train)\n",
    "print(\"MAE on Test  set  for Linear regression :\", MAE_Linear_Test)\n",
    "\n",
    "\n",
    "# Second Metric\n",
    "R2_Linear_Test = metrics.r2_score(ytest, ypredtest)*100\n",
    "R2_Linear_Train = metrics.r2_score(ytrain, ypredtrain)*100\n",
    "\n",
    "print(\"R2_score on Train set for linear regression :\", R2_Linear_Train)\n",
    "print(\"R2_score on Test  set  for Linear regression :\", R2_Linear_Test)\n",
    "\n"
   ]
  },
  {
   "cell_type": "code",
   "execution_count": null,
   "metadata": {},
   "outputs": [],
   "source": []
  }
 ],
 "metadata": {
  "kernelspec": {
   "display_name": "Python 3",
   "language": "python",
   "name": "python3"
  },
  "language_info": {
   "codemirror_mode": {
    "name": "ipython",
    "version": 3
   },
   "file_extension": ".py",
   "mimetype": "text/x-python",
   "name": "python",
   "nbconvert_exporter": "python",
   "pygments_lexer": "ipython3",
   "version": "3.7.4"
  }
 },
 "nbformat": 4,
 "nbformat_minor": 2
}
