{
 "cells": [
  {
   "cell_type": "code",
   "execution_count": 431,
   "metadata": {},
   "outputs": [],
   "source": [
    "import pandas as pd\n",
    "import numpy as np\n",
    "from pandas_schema import Column, Schema\n",
    "from pandas_schema.validation import CustomElementValidation, InRangeValidation, IsDtypeValidation"
   ]
  },
  {
   "cell_type": "code",
   "execution_count": 434,
   "metadata": {},
   "outputs": [
    {
     "name": "stdout",
     "output_type": "stream",
     "text": [
      "<class 'pandas.core.frame.DataFrame'>\n",
      "RangeIndex: 65499 entries, 0 to 65498\n",
      "Data columns (total 10 columns):\n",
      "brand         65499 non-null object\n",
      "gear          65499 non-null object\n",
      "model         65499 non-null object\n",
      "price         65499 non-null int64\n",
      "fuel          65499 non-null object\n",
      "milage        65499 non-null int64\n",
      "hp            65499 non-null float64\n",
      "type          65499 non-null object\n",
      "geo           65499 non-null object\n",
      "model_year    65499 non-null int64\n",
      "dtypes: float64(1), int64(3), object(6)\n",
      "memory usage: 5.0+ MB\n"
     ]
    }
   ],
   "source": [
    "PATH = './final2.csv'\n",
    "train_data = pd.DataFrame(pd.read_csv(PATH, index_col=False))\n",
    "# train_data[\"hp\"] = train_data[\"hp\"].replace(\"0\",np.nan, regex=True)\n",
    "# train_data[\"hp\"] = train_data[\"hp\"].replace(\"-\",np.nan, regex=True)\n",
    "# train_data['hp'] = train_data['hp'].astype(float)\n",
    "# train_data['milage'] = train_data['milage'].replace(\" \", \"\", regex=True)\n",
    "# train_data['milage'] = train_data['milage'].apply(lambda x: x[5:] if \"Merän\" in x else (x if x.find(\"-\") == -1 else x[:x.find(\"-\")]))\n",
    "# train_data['milage'] = train_data['milage'].astype(float)\n",
    "train_data.info()"
   ]
  },
  {
   "cell_type": "code",
   "execution_count": 435,
   "metadata": {},
   "outputs": [
    {
     "data": {
      "text/plain": [
       "149.0"
      ]
     },
     "execution_count": 435,
     "metadata": {},
     "output_type": "execute_result"
    }
   ],
   "source": [
    "train_data['hp'][3542]"
   ]
  },
  {
   "cell_type": "code",
   "execution_count": 436,
   "metadata": {},
   "outputs": [],
   "source": [
    "def is_int(value):\n",
    "    return isinstance(value, int)"
   ]
  },
  {
   "cell_type": "code",
   "execution_count": 437,
   "metadata": {},
   "outputs": [],
   "source": [
    "def is_string(value):\n",
    "    return isinstance(value, str)"
   ]
  },
  {
   "cell_type": "code",
   "execution_count": 438,
   "metadata": {},
   "outputs": [],
   "source": [
    "def is_float(value):\n",
    "    return isinstance(value, float)"
   ]
  },
  {
   "cell_type": "code",
   "execution_count": 439,
   "metadata": {},
   "outputs": [],
   "source": [
    "int_validation=[CustomElementValidation(lambda d: is_int(d), 'is not integer')]"
   ]
  },
  {
   "cell_type": "code",
   "execution_count": 440,
   "metadata": {},
   "outputs": [],
   "source": [
    "string_validation=[CustomElementValidation(lambda d: is_string(d), 'is not string')]"
   ]
  },
  {
   "cell_type": "code",
   "execution_count": 441,
   "metadata": {},
   "outputs": [],
   "source": [
    "float_validation=[CustomElementValidation(lambda d: is_float(d), 'is not float')]"
   ]
  },
  {
   "cell_type": "code",
   "execution_count": 442,
   "metadata": {},
   "outputs": [],
   "source": [
    "null_validation=[CustomElementValidation(lambda d: pd.notnull(d), 'cannot be null')]"
   ]
  },
  {
   "cell_type": "code",
   "execution_count": 443,
   "metadata": {},
   "outputs": [],
   "source": [
    "hp_min_validation=[CustomElementValidation(lambda d: d>40, 'cannot be less than 40')]"
   ]
  },
  {
   "cell_type": "code",
   "execution_count": 444,
   "metadata": {},
   "outputs": [],
   "source": [
    "hp_max_validation=[CustomElementValidation(lambda d: d<800, 'cannot be greater than 800')]"
   ]
  },
  {
   "cell_type": "code",
   "execution_count": 445,
   "metadata": {},
   "outputs": [],
   "source": [
    "mileage_max_validation=[CustomElementValidation(lambda d: d<300000, 'cannot be less than 300000')]"
   ]
  },
  {
   "cell_type": "code",
   "execution_count": 446,
   "metadata": {},
   "outputs": [],
   "source": [
    "price_max_validation=[CustomElementValidation(lambda d: d<5000000, 'cannot be greater than 5000 000')]"
   ]
  },
  {
   "cell_type": "code",
   "execution_count": 447,
   "metadata": {},
   "outputs": [],
   "source": [
    "price_min_validation=[CustomElementValidation(lambda d: d>4000, 'cannot be less than 4000')]"
   ]
  },
  {
   "cell_type": "code",
   "execution_count": 448,
   "metadata": {},
   "outputs": [
    {
     "name": "stdout",
     "output_type": "stream",
     "text": [
      "<class 'float'>\n"
     ]
    }
   ],
   "source": [
    "a = float('-inf')\n",
    "print(type(a))"
   ]
  },
  {
   "cell_type": "code",
   "execution_count": 449,
   "metadata": {},
   "outputs": [],
   "source": [
    "def validate_data(df, schema):\n",
    "    errors = schema.validate(df)\n",
    "    return errors"
   ]
  },
  {
   "cell_type": "code",
   "execution_count": 450,
   "metadata": {},
   "outputs": [],
   "source": [
    "schema = Schema([\n",
    "    Column('brand', null_validation+string_validation),\n",
    "    Column('gear', null_validation+string_validation),\n",
    "    Column('model', null_validation+string_validation),\n",
    "    Column('price', null_validation+int_validation+price_max_validation, price_min_validation),\n",
    "    Column('fuel', null_validation+string_validation),\n",
    "    Column('milage', null_validation+int_validation+mileage_max_validation),\n",
    "    Column('hp', null_validation+float_validation+hp_min_validation+hp_max_validation),\n",
    "    Column('type', null_validation+string_validation),\n",
    "    Column('geo', null_validation+string_validation),\n",
    "    Column('model_year', null_validation+int_validation)\n",
    "])"
   ]
  },
  {
   "cell_type": "code",
   "execution_count": 451,
   "metadata": {},
   "outputs": [],
   "source": [
    "errors=validate_data(train_data, schema)"
   ]
  },
  {
   "cell_type": "code",
   "execution_count": 429,
   "metadata": {},
   "outputs": [],
   "source": [
    "errors_index = [e.row for e in errors]\n",
    "valid_data = train_data.drop(index=errors_index)\n",
    "pd.DataFrame({'errors':errors}).to_csv('errors.csv')\n",
    "valid_data.to_csv('valid_data.csv')"
   ]
  },
  {
   "cell_type": "code",
   "execution_count": 452,
   "metadata": {},
   "outputs": [
    {
     "name": "stdout",
     "output_type": "stream",
     "text": [
      "{row: 3538, column: \"hp\"}: \"38.0\" cannot be less than 40\n",
      "{row: 3933, column: \"hp\"}: \"38.0\" cannot be less than 40\n",
      "{row: 7216, column: \"hp\"}: \"38.0\" cannot be less than 40\n",
      "{row: 10283, column: \"hp\"}: \"38.0\" cannot be less than 40\n",
      "{row: 10614, column: \"hp\"}: \"38.0\" cannot be less than 40\n",
      "{row: 12989, column: \"hp\"}: \"816.0\" cannot be greater than 800\n",
      "{row: 14738, column: \"price\"}: \"9995000\" cannot be greater than 5000 000\n",
      "{row: 15252, column: \"milage\"}: \"512000\" cannot be less than 300000\n",
      "{row: 17096, column: \"hp\"}: \"19.0\" cannot be less than 40\n",
      "{row: 18698, column: \"hp\"}: \"21.0\" cannot be less than 40\n",
      "{row: 23097, column: \"hp\"}: \"38.0\" cannot be less than 40\n",
      "{row: 28619, column: \"hp\"}: \"38.0\" cannot be less than 40\n",
      "{row: 42312, column: \"hp\"}: \"8.0\" cannot be less than 40\n",
      "{row: 45326, column: \"price\"}: \"9000000\" cannot be greater than 5000 000\n",
      "{row: 57589, column: \"hp\"}: \"38.0\" cannot be less than 40\n",
      "{row: 58178, column: \"hp\"}: \"38.0\" cannot be less than 40\n",
      "{row: 60700, column: \"hp\"}: \"38.0\" cannot be less than 40\n",
      "{row: 61017, column: \"hp\"}: \"38.0\" cannot be less than 40\n",
      "{row: 61343, column: \"hp\"}: \"8.0\" cannot be less than 40\n",
      "{row: 61490, column: \"hp\"}: \"4.0\" cannot be less than 40\n"
     ]
    }
   ],
   "source": [
    "for e in errors:\n",
    "    print(e)"
   ]
  },
  {
   "cell_type": "code",
   "execution_count": null,
   "metadata": {},
   "outputs": [],
   "source": []
  }
 ],
 "metadata": {
  "kernelspec": {
   "display_name": "Python 3",
   "language": "python",
   "name": "python3"
  },
  "language_info": {
   "codemirror_mode": {
    "name": "ipython",
    "version": 3
   },
   "file_extension": ".py",
   "mimetype": "text/x-python",
   "name": "python",
   "nbconvert_exporter": "python",
   "pygments_lexer": "ipython3",
   "version": "3.7.4"
  }
 },
 "nbformat": 4,
 "nbformat_minor": 2
}
